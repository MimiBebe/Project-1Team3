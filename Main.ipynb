{
 "cells": [
  {
   "cell_type": "markdown",
   "metadata": {},
   "source": [
    "#  This is a shared notebook for Project I - Group 3"
   ]
  },
  {
   "cell_type": "markdown",
   "metadata": {},
   "source": [
    "## Data Cleaning"
   ]
  },
  {
   "cell_type": "code",
   "execution_count": null,
   "metadata": {},
   "outputs": [],
   "source": [
    "#Dependencies\n",
    "import os\n",
    "import pandas as pd\n",
    "import calendar"
   ]
  },
  {
   "cell_type": "code",
   "execution_count": null,
   "metadata": {},
   "outputs": [],
   "source": [
    "csvDir = os.path.join(\"Resources\")\n",
    "col_list = [\"month_of_death\",\"day_of_week_of_death\",\"current_data_year\",\n",
    "                              \"manner_of_death\",\"358_cause_recode\",\"sex\",\"detail_age\"]\n",
    "masterDf = pd.DataFrame()\n",
    "files = os.listdir(csvDir)\n",
    "for file in files:\n",
    "    if file.endswith(\".csv\"):\n",
    "        curCsv = os.path.join(csvDir,file)\n",
    "        with open(curCsv) as file:\n",
    "            x = pd.read_csv(file, usecols=col_list)\n",
    "            masterDf = pd.concat([masterDf,x],axis=0)"
   ]
  },
  {
   "cell_type": "code",
   "execution_count": null,
   "metadata": {},
   "outputs": [],
   "source": [
    "#Filter to only deaths related to cars\n",
    "car_death_data = masterDf[(masterDf[\"358_cause_recode\"] >=385) & (masterDf[\"358_cause_recode\"] <=398)]\n",
    "car_death_data.head()"
   ]
  },
  {
   "cell_type": "code",
   "execution_count": null,
   "metadata": {},
   "outputs": [],
   "source": [
    "#Clean up the dataframe so that it is readable\n",
    "month_dict = {\n",
    "      1:\"January\",\n",
    "      2:\"February\",\n",
    "      3:\"March\",\n",
    "      4:\"April\",\n",
    "      5:\"May\",\n",
    "      6:\"June\",\n",
    "      7:\"July\",\n",
    "      8:\"August\",\n",
    "      9:\"September\",\n",
    "      10:\"October\",\n",
    "      11:\"November\",\n",
    "      12:\"December\"}\n",
    "      \n",
    "day_of_week_dict = {\n",
    "      1:\"Sunday\",\n",
    "      2:\"Monday\",\n",
    "      3:\"Tuesday\",\n",
    "      4:\"Wednesday\",\n",
    "      5:\"Thursday\",\n",
    "      6:\"Friday\",\n",
    "      7:\"Saturday\",\n",
    "      9:\"Unknown\"}\n",
    "\n",
    "manner_of_death_dict = {\n",
    "      1:\"Accident\",\n",
    "      2:\"Suicide\",\n",
    "      3:\"Homicide\",\n",
    "      4:\"Pending investigation\",\n",
    "      5:\"Could not determine\",\n",
    "      6:\"Self-Inflicted\",\n",
    "      7:\"Natural\"}\n",
    "#       \"Blank\":\"Not specified\"}\n",
    "\n",
    "cause_recode_dict = {\n",
    "      385:\" 385- Motor vehicle accidents\",\n",
    "      386:\" 386- Pedestrian involved in collision with motor vehicle\",\n",
    "      387:\" 387- Pedalcyclist involved in collision with motor vehicle\",\n",
    "      388:\" 388- Motorcyclist involved in any accident except collision with railway train\",\n",
    "      389:\" 389- Motor vehicle accident involving collision with railway train\",\n",
    "      390:\" 390- Motorcyclist involved in collision with railway train\",\n",
    "      391:\" 391- Other motor vehicle accident involving collision with railway train\",\n",
    "      392:\" 392- Occupant of motor vehicle involved in collision with other (non- motorized) road vehicle, streetcar, animal or pedestrian\",\n",
    "      393:\" 393- Occupant of car, pickup truck or van involved in collision with other motor vehicle\",\n",
    "      394:\" 394- Occupant of heavy transport vehicle or bus involved in collision with other motor vehicle\",\n",
    "      395:\" 395- Occupant of motor vehicle involved in non-collision accident\",\n",
    "      396:\" 396- Occupant of special-use motor vehicle involved in any accident\",\n",
    "      397:\" 397- Other and unspecified motor vehicle accidents\",\n",
    "      398:\" 398- Streetcar accidents\"}\n",
    "    \n",
    "\n",
    "clean_df = car_death_data.replace({\"month_of_death\": month_dict, \n",
    "                        \"day_of_week_of_death\": day_of_week_dict,\n",
    "                        \"manner_of_death\": manner_of_death_dict,\n",
    "                        \"358_cause_recode\": cause_recode_dict})\n",
    "\n",
    "clean_df"
   ]
  },
  {
   "cell_type": "code",
   "execution_count": null,
   "metadata": {},
   "outputs": [],
   "source": [
    "#  check quality of data\n",
    "#  list all unique values in each columns\n",
    "\n",
    "colNames = list(clean_df.columns)\n",
    "for col in colNames:\n",
    "    print(col)\n",
    "    print(f\"{clean_df[col].unique()}\")\n",
    "    print(\"----------\")"
   ]
  },
  {
   "cell_type": "code",
   "execution_count": null,
   "metadata": {},
   "outputs": [],
   "source": [
    "#  Clean up\n",
    "#  Remove not logical data \n",
    "# ie: age of 999, day of week : Unknown, manner_of_death nan, need filter by Accident\n",
    "finalDf = clean_df[clean_df[\"detail_age\"] != 999]\n",
    "finalDf = finalDf[finalDf[\"manner_of_death\"] == \"Accident\"]\n",
    "finalDf =  finalDf[finalDf[\"day_of_week_of_death\"] != \"Unknown\"]"
   ]
  },
  {
   "cell_type": "code",
   "execution_count": null,
   "metadata": {},
   "outputs": [],
   "source": [
    "##Matt's Code Starts Here"
   ]
  },
  {
   "cell_type": "code",
   "execution_count": null,
   "metadata": {},
   "outputs": [],
   "source": [
    "##Matt's Code Ends Here"
   ]
  },
  {
   "cell_type": "markdown",
   "metadata": {},
   "source": [
    "## Analysis"
   ]
  },
  {
   "cell_type": "code",
   "execution_count": null,
   "metadata": {
    "scrolled": true
   },
   "outputs": [],
   "source": []
  },
  {
   "cell_type": "code",
   "execution_count": null,
   "metadata": {},
   "outputs": [],
   "source": []
  },
  {
   "cell_type": "code",
   "execution_count": null,
   "metadata": {},
   "outputs": [],
   "source": []
  },
  {
   "cell_type": "code",
   "execution_count": null,
   "metadata": {},
   "outputs": [],
   "source": []
  }
 ],
 "metadata": {
  "kernelspec": {
   "display_name": "Python 3",
   "language": "python",
   "name": "python3"
  },
  "language_info": {
   "codemirror_mode": {
    "name": "ipython",
    "version": 3
   },
   "file_extension": ".py",
   "mimetype": "text/x-python",
   "name": "python",
   "nbconvert_exporter": "python",
   "pygments_lexer": "ipython3",
   "version": "3.6.10"
  }
 },
 "nbformat": 4,
 "nbformat_minor": 4
}
