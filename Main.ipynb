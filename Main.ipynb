{
 "cells": [
  {
   "cell_type": "markdown",
   "metadata": {},
   "source": [
    "#  This is a shared notebook for Project I - Group 3"
   ]
  },
  {
   "cell_type": "code",
   "execution_count": null,
   "metadata": {},
   "outputs": [],
   "source": [
    "#Dependencies\n",
    "import pandas as pd"
   ]
  },
  {
   "cell_type": "code",
   "execution_count": null,
   "metadata": {},
   "outputs": [],
   "source": [
    "##Amanda's code starts here ##"
   ]
  },
  {
   "cell_type": "code",
   "execution_count": null,
   "metadata": {},
   "outputs": [],
   "source": [
    "#List of the columns we want to read\n",
    "col_list = [\"month_of_death\",\"day_of_week_of_death\",\"current_data_year\",\n",
    "                              \"manner_of_death\",\"358_cause_recode\",\"sex\",\"detail_age\"]\n",
    "\n",
    "#Read all of the CSVs into dataframes\n",
    "data_2005 = pd.read_csv('Resources/2005_data.csv', usecols=col_list)  \n",
    "data_2006 = pd.read_csv('Resources/2006_data.csv', usecols=col_list)  \n",
    "data_2007 = pd.read_csv('Resources/2007_data.csv', usecols=col_list)  \n",
    "data_2008 = pd.read_csv('Resources/2008_data.csv', usecols=col_list)  \n",
    "data_2009 = pd.read_csv('Resources/2009_data.csv', usecols=col_list)  \n",
    "data_2010 = pd.read_csv('Resources/2010_data.csv', usecols=col_list)  \n",
    "data_2011 = pd.read_csv('Resources/2011_data.csv', usecols=col_list)  \n",
    "data_2012 = pd.read_csv('Resources/2012_data.csv', usecols=col_list)  \n",
    "data_2013 = pd.read_csv('Resources/2013_data.csv', usecols=col_list)  \n",
    "data_2014 = pd.read_csv('Resources/2014_data.csv', usecols=col_list)  \n",
    "data_2015 = pd.read_csv('Resources/2015_data.csv', usecols=col_list)  "
   ]
  },
  {
   "cell_type": "code",
   "execution_count": null,
   "metadata": {},
   "outputs": [],
   "source": [
    "combined_df = data_2005.append([data_2006, data_2007, data_2008, data_2009, data_2010, data_2011,\\\n",
    "                                data_2012, data_2013, data_2014, data_2015])\n",
    "combined_df"
   ]
  },
  {
   "cell_type": "code",
   "execution_count": null,
   "metadata": {},
   "outputs": [],
   "source": [
    "#Filter to only deaths related to cars\n",
    "car_death_data = (combined_df[\"358_cause_recode\"] >=385) & (combined_df[\"358_cause_recode\"] <=398)\n",
    "\n",
    "car_death_data = combined_df[car_death_data]\n",
    "\n",
    "car_death_data.head()"
   ]
  },
  {
   "cell_type": "code",
   "execution_count": null,
   "metadata": {},
   "outputs": [],
   "source": [
    "#Clean up the dataframe so that it is readable\n",
    "month_dict = {\n",
    "      1:\"January\",\n",
    "      2:\"February\",\n",
    "      3:\"March\",\n",
    "      4:\"April\",\n",
    "      5:\"May\",\n",
    "      6:\"June\",\n",
    "      7:\"July\",\n",
    "      8:\"August\",\n",
    "      9:\"September\",\n",
    "      10:\"October\",\n",
    "      11:\"November\",\n",
    "      12:\"December\"}\n",
    "      \n",
    "day_of_week_dict = {\n",
    "      1:\"Sunday\",\n",
    "      2:\"Monday\",\n",
    "      3:\"Tuesday\",\n",
    "      4:\"Wednesday\",\n",
    "      5:\"Thursday\",\n",
    "      6:\"Friday\",\n",
    "      7:\"Saturday\",\n",
    "      9:\"Unknown\"}\n",
    "\n",
    "manner_of_death_dict = {\n",
    "      1:\"Accident\",\n",
    "      2:\"Suicide\",\n",
    "      3:\"Homicide\",\n",
    "      4:\"Pending investigation\",\n",
    "      5:\"Could not determine\",\n",
    "      6:\"Self-Inflicted\",\n",
    "      7:\"Natural\"}\n",
    "#       \"Blank\":\"Not specified\"}\n",
    "\n",
    "cause_recode_dict = {\n",
    "      385:\" 385- Motor vehicle accidents\",\n",
    "      386:\" 386- Pedestrian involved in collision with motor vehicle\",\n",
    "      387:\" 387- Pedalcyclist involved in collision with motor vehicle\",\n",
    "      388:\" 388- Motorcyclist involved in any accident except collision with railway train\",\n",
    "      389:\" 389- Motor vehicle accident involving collision with railway train\",\n",
    "      390:\" 390- Motorcyclist involved in collision with railway train\",\n",
    "      391:\" 391- Other motor vehicle accident involving collision with railway train\",\n",
    "      392:\" 392- Occupant of motor vehicle involved in collision with other (non- motorized) road vehicle, streetcar, animal or pedestrian\",\n",
    "      393:\" 393- Occupant of car, pickup truck or van involved in collision with other motor vehicle\",\n",
    "      394:\" 394- Occupant of heavy transport vehicle or bus involved in collision with other motor vehicle\",\n",
    "      395:\" 395- Occupant of motor vehicle involved in non-collision accident\",\n",
    "      396:\" 396- Occupant of special-use motor vehicle involved in any accident\",\n",
    "      397:\" 397- Other and unspecified motor vehicle accidents\",\n",
    "      398:\" 398- Streetcar accidents\"}\n",
    "    \n",
    "\n",
    "clean_df = car_death_data.replace({\"month_of_death\": month_dict, \n",
    "                        \"day_of_week_of_death\": day_of_week_dict,\n",
    "                        \"manner_of_death\": manner_of_death_dict,\n",
    "                        \"358_cause_recode\": cause_recode_dict})\n",
    "\n",
    "clean_df"
   ]
  },
  {
   "cell_type": "code",
   "execution_count": null,
   "metadata": {},
   "outputs": [],
   "source": []
  },
  {
   "cell_type": "code",
   "execution_count": null,
   "metadata": {},
   "outputs": [],
   "source": [
    "##Amanda's code ends here##"
   ]
  }
 ],
 "metadata": {
  "kernelspec": {
   "display_name": "Python 3",
   "language": "python",
   "name": "python3"
  },
  "language_info": {
   "codemirror_mode": {
    "name": "ipython",
    "version": 3
   },
   "file_extension": ".py",
   "mimetype": "text/x-python",
   "name": "python",
   "nbconvert_exporter": "python",
   "pygments_lexer": "ipython3",
   "version": "3.6.10"
  }
 },
 "nbformat": 4,
 "nbformat_minor": 4
}
