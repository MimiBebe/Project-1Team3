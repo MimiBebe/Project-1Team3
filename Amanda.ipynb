{
 "cells": [
  {
   "cell_type": "markdown",
   "metadata": {},
   "source": [
    "#  This is a shared notebook for Project I - Group 3"
   ]
  },
  {
   "cell_type": "markdown",
   "metadata": {},
   "source": [
    "## Data Cleaning"
   ]
  },
  {
   "cell_type": "code",
   "execution_count": 1,
   "metadata": {},
   "outputs": [],
   "source": [
    "#Dependencies\n",
    "import os\n",
    "import pandas as pd\n",
    "import calendar\n",
    "import numpy as np\n",
    "import matplotlib.pyplot as plt\n",
    "import scipy.stats as stats"
   ]
  },
  {
   "cell_type": "code",
   "execution_count": 2,
   "metadata": {},
   "outputs": [],
   "source": [
    "csvDir = os.path.join(\"Resources\")\n",
    "col_list = [\"month_of_death\",\"day_of_week_of_death\",\"current_data_year\",\n",
    "                              \"manner_of_death\",\"358_cause_recode\",\"sex\",\"detail_age\"]\n",
    "masterDf = pd.DataFrame()\n",
    "files = os.listdir(csvDir)\n",
    "for file in files:\n",
    "    if file.endswith(\".csv\"):\n",
    "        curCsv = os.path.join(csvDir,file)\n",
    "        with open(curCsv) as file:\n",
    "            x = pd.read_csv(file, usecols=col_list)\n",
    "            masterDf = pd.concat([masterDf,x],axis=0)"
   ]
  },
  {
   "cell_type": "code",
   "execution_count": 3,
   "metadata": {},
   "outputs": [
    {
     "data": {
      "text/html": [
       "<div>\n",
       "<style scoped>\n",
       "    .dataframe tbody tr th:only-of-type {\n",
       "        vertical-align: middle;\n",
       "    }\n",
       "\n",
       "    .dataframe tbody tr th {\n",
       "        vertical-align: top;\n",
       "    }\n",
       "\n",
       "    .dataframe thead th {\n",
       "        text-align: right;\n",
       "    }\n",
       "</style>\n",
       "<table border=\"1\" class=\"dataframe\">\n",
       "  <thead>\n",
       "    <tr style=\"text-align: right;\">\n",
       "      <th></th>\n",
       "      <th>month_of_death</th>\n",
       "      <th>sex</th>\n",
       "      <th>detail_age</th>\n",
       "      <th>day_of_week_of_death</th>\n",
       "      <th>current_data_year</th>\n",
       "      <th>manner_of_death</th>\n",
       "      <th>358_cause_recode</th>\n",
       "    </tr>\n",
       "  </thead>\n",
       "  <tbody>\n",
       "    <tr>\n",
       "      <th>207</th>\n",
       "      <td>1</td>\n",
       "      <td>M</td>\n",
       "      <td>32</td>\n",
       "      <td>7</td>\n",
       "      <td>2005</td>\n",
       "      <td>1.0</td>\n",
       "      <td>396</td>\n",
       "    </tr>\n",
       "    <tr>\n",
       "      <th>208</th>\n",
       "      <td>1</td>\n",
       "      <td>M</td>\n",
       "      <td>75</td>\n",
       "      <td>5</td>\n",
       "      <td>2005</td>\n",
       "      <td>1.0</td>\n",
       "      <td>387</td>\n",
       "    </tr>\n",
       "    <tr>\n",
       "      <th>220</th>\n",
       "      <td>1</td>\n",
       "      <td>M</td>\n",
       "      <td>68</td>\n",
       "      <td>7</td>\n",
       "      <td>2005</td>\n",
       "      <td>1.0</td>\n",
       "      <td>396</td>\n",
       "    </tr>\n",
       "    <tr>\n",
       "      <th>234</th>\n",
       "      <td>2</td>\n",
       "      <td>M</td>\n",
       "      <td>21</td>\n",
       "      <td>1</td>\n",
       "      <td>2005</td>\n",
       "      <td>1.0</td>\n",
       "      <td>396</td>\n",
       "    </tr>\n",
       "    <tr>\n",
       "      <th>235</th>\n",
       "      <td>2</td>\n",
       "      <td>M</td>\n",
       "      <td>24</td>\n",
       "      <td>1</td>\n",
       "      <td>2005</td>\n",
       "      <td>1.0</td>\n",
       "      <td>396</td>\n",
       "    </tr>\n",
       "  </tbody>\n",
       "</table>\n",
       "</div>"
      ],
      "text/plain": [
       "     month_of_death sex  detail_age  day_of_week_of_death  current_data_year  \\\n",
       "207               1   M          32                     7               2005   \n",
       "208               1   M          75                     5               2005   \n",
       "220               1   M          68                     7               2005   \n",
       "234               2   M          21                     1               2005   \n",
       "235               2   M          24                     1               2005   \n",
       "\n",
       "     manner_of_death  358_cause_recode  \n",
       "207              1.0               396  \n",
       "208              1.0               387  \n",
       "220              1.0               396  \n",
       "234              1.0               396  \n",
       "235              1.0               396  "
      ]
     },
     "execution_count": 3,
     "metadata": {},
     "output_type": "execute_result"
    }
   ],
   "source": [
    "#Filter to only deaths related to cars\n",
    "car_death_data = masterDf[(masterDf[\"358_cause_recode\"] >=385) & (masterDf[\"358_cause_recode\"] <=398)]\n",
    "car_death_data.head()"
   ]
  },
  {
   "cell_type": "code",
   "execution_count": 4,
   "metadata": {},
   "outputs": [
    {
     "data": {
      "text/html": [
       "<div>\n",
       "<style scoped>\n",
       "    .dataframe tbody tr th:only-of-type {\n",
       "        vertical-align: middle;\n",
       "    }\n",
       "\n",
       "    .dataframe tbody tr th {\n",
       "        vertical-align: top;\n",
       "    }\n",
       "\n",
       "    .dataframe thead th {\n",
       "        text-align: right;\n",
       "    }\n",
       "</style>\n",
       "<table border=\"1\" class=\"dataframe\">\n",
       "  <thead>\n",
       "    <tr style=\"text-align: right;\">\n",
       "      <th></th>\n",
       "      <th>month_of_death</th>\n",
       "      <th>sex</th>\n",
       "      <th>detail_age</th>\n",
       "      <th>day_of_week_of_death</th>\n",
       "      <th>current_data_year</th>\n",
       "      <th>manner_of_death</th>\n",
       "      <th>358_cause_recode</th>\n",
       "    </tr>\n",
       "  </thead>\n",
       "  <tbody>\n",
       "    <tr>\n",
       "      <th>207</th>\n",
       "      <td>January</td>\n",
       "      <td>M</td>\n",
       "      <td>32</td>\n",
       "      <td>Saturday</td>\n",
       "      <td>2005</td>\n",
       "      <td>Accident</td>\n",
       "      <td>396- Occupant of special-use motor vehicle in...</td>\n",
       "    </tr>\n",
       "    <tr>\n",
       "      <th>208</th>\n",
       "      <td>January</td>\n",
       "      <td>M</td>\n",
       "      <td>75</td>\n",
       "      <td>Thursday</td>\n",
       "      <td>2005</td>\n",
       "      <td>Accident</td>\n",
       "      <td>387- Pedalcyclist involved in collision with ...</td>\n",
       "    </tr>\n",
       "    <tr>\n",
       "      <th>220</th>\n",
       "      <td>January</td>\n",
       "      <td>M</td>\n",
       "      <td>68</td>\n",
       "      <td>Saturday</td>\n",
       "      <td>2005</td>\n",
       "      <td>Accident</td>\n",
       "      <td>396- Occupant of special-use motor vehicle in...</td>\n",
       "    </tr>\n",
       "    <tr>\n",
       "      <th>234</th>\n",
       "      <td>February</td>\n",
       "      <td>M</td>\n",
       "      <td>21</td>\n",
       "      <td>Sunday</td>\n",
       "      <td>2005</td>\n",
       "      <td>Accident</td>\n",
       "      <td>396- Occupant of special-use motor vehicle in...</td>\n",
       "    </tr>\n",
       "    <tr>\n",
       "      <th>235</th>\n",
       "      <td>February</td>\n",
       "      <td>M</td>\n",
       "      <td>24</td>\n",
       "      <td>Sunday</td>\n",
       "      <td>2005</td>\n",
       "      <td>Accident</td>\n",
       "      <td>396- Occupant of special-use motor vehicle in...</td>\n",
       "    </tr>\n",
       "    <tr>\n",
       "      <th>...</th>\n",
       "      <td>...</td>\n",
       "      <td>...</td>\n",
       "      <td>...</td>\n",
       "      <td>...</td>\n",
       "      <td>...</td>\n",
       "      <td>...</td>\n",
       "      <td>...</td>\n",
       "    </tr>\n",
       "    <tr>\n",
       "      <th>2717184</th>\n",
       "      <td>December</td>\n",
       "      <td>M</td>\n",
       "      <td>67</td>\n",
       "      <td>Friday</td>\n",
       "      <td>2015</td>\n",
       "      <td>Accident</td>\n",
       "      <td>397- Other and unspecified motor vehicle acci...</td>\n",
       "    </tr>\n",
       "    <tr>\n",
       "      <th>2717278</th>\n",
       "      <td>December</td>\n",
       "      <td>F</td>\n",
       "      <td>77</td>\n",
       "      <td>Thursday</td>\n",
       "      <td>2015</td>\n",
       "      <td>Accident</td>\n",
       "      <td>397- Other and unspecified motor vehicle acci...</td>\n",
       "    </tr>\n",
       "    <tr>\n",
       "      <th>2717674</th>\n",
       "      <td>December</td>\n",
       "      <td>M</td>\n",
       "      <td>73</td>\n",
       "      <td>Wednesday</td>\n",
       "      <td>2015</td>\n",
       "      <td>Accident</td>\n",
       "      <td>397- Other and unspecified motor vehicle acci...</td>\n",
       "    </tr>\n",
       "    <tr>\n",
       "      <th>2717998</th>\n",
       "      <td>December</td>\n",
       "      <td>M</td>\n",
       "      <td>70</td>\n",
       "      <td>Thursday</td>\n",
       "      <td>2015</td>\n",
       "      <td>Accident</td>\n",
       "      <td>395- Occupant of motor vehicle involved in no...</td>\n",
       "    </tr>\n",
       "    <tr>\n",
       "      <th>2718169</th>\n",
       "      <td>December</td>\n",
       "      <td>F</td>\n",
       "      <td>63</td>\n",
       "      <td>Thursday</td>\n",
       "      <td>2015</td>\n",
       "      <td>Accident</td>\n",
       "      <td>386- Pedestrian involved in collision with mo...</td>\n",
       "    </tr>\n",
       "  </tbody>\n",
       "</table>\n",
       "<p>429541 rows × 7 columns</p>\n",
       "</div>"
      ],
      "text/plain": [
       "        month_of_death sex  detail_age day_of_week_of_death  \\\n",
       "207            January   M          32             Saturday   \n",
       "208            January   M          75             Thursday   \n",
       "220            January   M          68             Saturday   \n",
       "234           February   M          21               Sunday   \n",
       "235           February   M          24               Sunday   \n",
       "...                ...  ..         ...                  ...   \n",
       "2717184       December   M          67               Friday   \n",
       "2717278       December   F          77             Thursday   \n",
       "2717674       December   M          73            Wednesday   \n",
       "2717998       December   M          70             Thursday   \n",
       "2718169       December   F          63             Thursday   \n",
       "\n",
       "         current_data_year manner_of_death  \\\n",
       "207                   2005        Accident   \n",
       "208                   2005        Accident   \n",
       "220                   2005        Accident   \n",
       "234                   2005        Accident   \n",
       "235                   2005        Accident   \n",
       "...                    ...             ...   \n",
       "2717184               2015        Accident   \n",
       "2717278               2015        Accident   \n",
       "2717674               2015        Accident   \n",
       "2717998               2015        Accident   \n",
       "2718169               2015        Accident   \n",
       "\n",
       "                                          358_cause_recode  \n",
       "207       396- Occupant of special-use motor vehicle in...  \n",
       "208       387- Pedalcyclist involved in collision with ...  \n",
       "220       396- Occupant of special-use motor vehicle in...  \n",
       "234       396- Occupant of special-use motor vehicle in...  \n",
       "235       396- Occupant of special-use motor vehicle in...  \n",
       "...                                                    ...  \n",
       "2717184   397- Other and unspecified motor vehicle acci...  \n",
       "2717278   397- Other and unspecified motor vehicle acci...  \n",
       "2717674   397- Other and unspecified motor vehicle acci...  \n",
       "2717998   395- Occupant of motor vehicle involved in no...  \n",
       "2718169   386- Pedestrian involved in collision with mo...  \n",
       "\n",
       "[429541 rows x 7 columns]"
      ]
     },
     "execution_count": 4,
     "metadata": {},
     "output_type": "execute_result"
    }
   ],
   "source": [
    "#Clean up the dataframe so that it is readable\n",
    "month_dict = {\n",
    "      1:\"January\",\n",
    "      2:\"February\",\n",
    "      3:\"March\",\n",
    "      4:\"April\",\n",
    "      5:\"May\",\n",
    "      6:\"June\",\n",
    "      7:\"July\",\n",
    "      8:\"August\",\n",
    "      9:\"September\",\n",
    "      10:\"October\",\n",
    "      11:\"November\",\n",
    "      12:\"December\"}\n",
    "      \n",
    "day_of_week_dict = {\n",
    "      1:\"Sunday\",\n",
    "      2:\"Monday\",\n",
    "      3:\"Tuesday\",\n",
    "      4:\"Wednesday\",\n",
    "      5:\"Thursday\",\n",
    "      6:\"Friday\",\n",
    "      7:\"Saturday\",\n",
    "      9:\"Unknown\"}\n",
    "\n",
    "manner_of_death_dict = {\n",
    "      1:\"Accident\",\n",
    "      2:\"Suicide\",\n",
    "      3:\"Homicide\",\n",
    "      4:\"Pending investigation\",\n",
    "      5:\"Could not determine\",\n",
    "      6:\"Self-Inflicted\",\n",
    "      7:\"Natural\"}\n",
    "#       \"Blank\":\"Not specified\"}\n",
    "\n",
    "cause_recode_dict = {\n",
    "      385:\" 385- Motor vehicle accidents\",\n",
    "      386:\" 386- Pedestrian involved in collision with motor vehicle\",\n",
    "      387:\" 387- Pedalcyclist involved in collision with motor vehicle\",\n",
    "      388:\" 388- Motorcyclist involved in any accident except collision with railway train\",\n",
    "      389:\" 389- Motor vehicle accident involving collision with railway train\",\n",
    "      390:\" 390- Motorcyclist involved in collision with railway train\",\n",
    "      391:\" 391- Other motor vehicle accident involving collision with railway train\",\n",
    "      392:\" 392- Occupant of motor vehicle involved in collision with other (non- motorized) road vehicle, streetcar, animal or pedestrian\",\n",
    "      393:\" 393- Occupant of car, pickup truck or van involved in collision with other motor vehicle\",\n",
    "      394:\" 394- Occupant of heavy transport vehicle or bus involved in collision with other motor vehicle\",\n",
    "      395:\" 395- Occupant of motor vehicle involved in non-collision accident\",\n",
    "      396:\" 396- Occupant of special-use motor vehicle involved in any accident\",\n",
    "      397:\" 397- Other and unspecified motor vehicle accidents\",\n",
    "      398:\" 398- Streetcar accidents\"}\n",
    "    \n",
    "\n",
    "clean_df = car_death_data.replace({\"month_of_death\": month_dict, \n",
    "                        \"day_of_week_of_death\": day_of_week_dict,\n",
    "                        \"manner_of_death\": manner_of_death_dict,\n",
    "                        \"358_cause_recode\": cause_recode_dict})\n",
    "\n",
    "clean_df"
   ]
  },
  {
   "cell_type": "code",
   "execution_count": 5,
   "metadata": {},
   "outputs": [
    {
     "name": "stdout",
     "output_type": "stream",
     "text": [
      "month_of_death\n",
      "['January' 'February' 'March' 'April' 'June' 'May' 'July' 'August'\n",
      " 'September' 'October' 'November' 'December']\n",
      "----------\n",
      "sex\n",
      "['M' 'F']\n",
      "----------\n",
      "detail_age\n",
      "[ 32  75  68  21  24  25  44  49  40  11  14  64  57  18   9  54  31  42\n",
      "  27  43  58  46  33  22  13  61  56  16  53  30  23  26  20  83  34  38\n",
      "  85  15   1  47  65  72  52  17  28  12  19  48  45  50  66  81  41  62\n",
      "  59  69  39  37  63  78  80  35  73  36  90 999  82  55  51   2  60  70\n",
      "  29  91  79   7  84  76   8   5  77  89  74   4  10  88  86   6   3  71\n",
      "  67  92 101  94  87  93  97  96 102 100  99  95  98 106 104 103 107]\n",
      "----------\n",
      "day_of_week_of_death\n",
      "['Saturday' 'Thursday' 'Sunday' 'Tuesday' 'Wednesday' 'Monday' 'Friday'\n",
      " 'Unknown']\n",
      "----------\n",
      "current_data_year\n",
      "[2005 2006 2007 2008 2009 2010 2011 2012 2013 2014 2015]\n",
      "----------\n",
      "manner_of_death\n",
      "['Accident' 'Natural' 'Could not determine' 'Homicide' nan\n",
      " 'Pending investigation' 'Suicide']\n",
      "----------\n",
      "358_cause_recode\n",
      "[' 396- Occupant of special-use motor vehicle involved in any accident'\n",
      " ' 387- Pedalcyclist involved in collision with motor vehicle'\n",
      " ' 397- Other and unspecified motor vehicle accidents'\n",
      " ' 393- Occupant of car, pickup truck or van involved in collision with other motor vehicle'\n",
      " ' 388- Motorcyclist involved in any accident except collision with railway train'\n",
      " ' 386- Pedestrian involved in collision with motor vehicle'\n",
      " ' 395- Occupant of motor vehicle involved in non-collision accident'\n",
      " ' 392- Occupant of motor vehicle involved in collision with other (non- motorized) road vehicle, streetcar, animal or pedestrian'\n",
      " ' 391- Other motor vehicle accident involving collision with railway train'\n",
      " ' 394- Occupant of heavy transport vehicle or bus involved in collision with other motor vehicle'\n",
      " ' 390- Motorcyclist involved in collision with railway train'\n",
      " ' 398- Streetcar accidents']\n",
      "----------\n"
     ]
    }
   ],
   "source": [
    "#  check quality of data\n",
    "#  list all unique values in each columns\n",
    "\n",
    "colNames = list(clean_df.columns)\n",
    "for col in colNames:\n",
    "    print(col)\n",
    "    print(f\"{clean_df[col].unique()}\")\n",
    "    print(\"----------\")"
   ]
  },
  {
   "cell_type": "code",
   "execution_count": 6,
   "metadata": {},
   "outputs": [
    {
     "data": {
      "text/html": [
       "<div>\n",
       "<style scoped>\n",
       "    .dataframe tbody tr th:only-of-type {\n",
       "        vertical-align: middle;\n",
       "    }\n",
       "\n",
       "    .dataframe tbody tr th {\n",
       "        vertical-align: top;\n",
       "    }\n",
       "\n",
       "    .dataframe thead th {\n",
       "        text-align: right;\n",
       "    }\n",
       "</style>\n",
       "<table border=\"1\" class=\"dataframe\">\n",
       "  <thead>\n",
       "    <tr style=\"text-align: right;\">\n",
       "      <th></th>\n",
       "      <th>month_of_death</th>\n",
       "      <th>sex</th>\n",
       "      <th>detail_age</th>\n",
       "      <th>day_of_week_of_death</th>\n",
       "      <th>current_data_year</th>\n",
       "      <th>manner_of_death</th>\n",
       "      <th>358_cause_recode</th>\n",
       "    </tr>\n",
       "  </thead>\n",
       "  <tbody>\n",
       "    <tr>\n",
       "      <th>207</th>\n",
       "      <td>January</td>\n",
       "      <td>M</td>\n",
       "      <td>32</td>\n",
       "      <td>Saturday</td>\n",
       "      <td>2005</td>\n",
       "      <td>Accident</td>\n",
       "      <td>396- Occupant of special-use motor vehicle in...</td>\n",
       "    </tr>\n",
       "    <tr>\n",
       "      <th>208</th>\n",
       "      <td>January</td>\n",
       "      <td>M</td>\n",
       "      <td>75</td>\n",
       "      <td>Thursday</td>\n",
       "      <td>2005</td>\n",
       "      <td>Accident</td>\n",
       "      <td>387- Pedalcyclist involved in collision with ...</td>\n",
       "    </tr>\n",
       "    <tr>\n",
       "      <th>220</th>\n",
       "      <td>January</td>\n",
       "      <td>M</td>\n",
       "      <td>68</td>\n",
       "      <td>Saturday</td>\n",
       "      <td>2005</td>\n",
       "      <td>Accident</td>\n",
       "      <td>396- Occupant of special-use motor vehicle in...</td>\n",
       "    </tr>\n",
       "    <tr>\n",
       "      <th>234</th>\n",
       "      <td>February</td>\n",
       "      <td>M</td>\n",
       "      <td>21</td>\n",
       "      <td>Sunday</td>\n",
       "      <td>2005</td>\n",
       "      <td>Accident</td>\n",
       "      <td>396- Occupant of special-use motor vehicle in...</td>\n",
       "    </tr>\n",
       "    <tr>\n",
       "      <th>235</th>\n",
       "      <td>February</td>\n",
       "      <td>M</td>\n",
       "      <td>24</td>\n",
       "      <td>Sunday</td>\n",
       "      <td>2005</td>\n",
       "      <td>Accident</td>\n",
       "      <td>396- Occupant of special-use motor vehicle in...</td>\n",
       "    </tr>\n",
       "  </tbody>\n",
       "</table>\n",
       "</div>"
      ],
      "text/plain": [
       "    month_of_death sex  detail_age day_of_week_of_death  current_data_year  \\\n",
       "207        January   M          32             Saturday               2005   \n",
       "208        January   M          75             Thursday               2005   \n",
       "220        January   M          68             Saturday               2005   \n",
       "234       February   M          21               Sunday               2005   \n",
       "235       February   M          24               Sunday               2005   \n",
       "\n",
       "    manner_of_death                                   358_cause_recode  \n",
       "207        Accident   396- Occupant of special-use motor vehicle in...  \n",
       "208        Accident   387- Pedalcyclist involved in collision with ...  \n",
       "220        Accident   396- Occupant of special-use motor vehicle in...  \n",
       "234        Accident   396- Occupant of special-use motor vehicle in...  \n",
       "235        Accident   396- Occupant of special-use motor vehicle in...  "
      ]
     },
     "execution_count": 6,
     "metadata": {},
     "output_type": "execute_result"
    }
   ],
   "source": [
    "#  Clean up\n",
    "#  Remove not logical data \n",
    "# ie: age of 999, day of week : Unknown, manner_of_death nan, need filter by Accident\n",
    "finalDf = clean_df[clean_df[\"detail_age\"] != 999]\n",
    "finalDf = finalDf[finalDf[\"manner_of_death\"] == \"Accident\"]\n",
    "finalDf =  finalDf[finalDf[\"day_of_week_of_death\"] != \"Unknown\"]\n",
    "finalDf.head()"
   ]
  },
  {
   "cell_type": "code",
   "execution_count": 7,
   "metadata": {},
   "outputs": [],
   "source": [
    "## Amanda's code starts here"
   ]
  },
  {
   "cell_type": "markdown",
   "metadata": {},
   "source": [
    "Questions to answer:<br /> \n",
    "What month are motor vehicle accidents most likely to happen?<br /> \n",
    "Is there any statistical significance to how the deaths are distributed across months?\"\n"
   ]
  },
  {
   "cell_type": "code",
   "execution_count": 8,
   "metadata": {},
   "outputs": [
    {
     "data": {
      "text/plain": [
       "{'January': 1,\n",
       " 'February': 2,\n",
       " 'March': 3,\n",
       " 'April': 4,\n",
       " 'May': 5,\n",
       " 'June': 6,\n",
       " 'July': 7,\n",
       " 'August': 8,\n",
       " 'September': 9,\n",
       " 'October': 10,\n",
       " 'November': 11,\n",
       " 'December': 12}"
      ]
     },
     "execution_count": 8,
     "metadata": {},
     "output_type": "execute_result"
    }
   ],
   "source": [
    "#Inverse dictionary: this part will make it easier to display months in the graph in the right order\n",
    "\n",
    "inv_dict = {v: k for k, v in month_dict.items()}\n",
    "inv_dict"
   ]
  },
  {
   "cell_type": "markdown",
   "metadata": {},
   "source": [
    "### Find the total number of motor vehicle deaths that occured in each month"
   ]
  },
  {
   "cell_type": "code",
   "execution_count": 9,
   "metadata": {},
   "outputs": [],
   "source": [
    "# Make a copy of the final dataframe, only including the columns we need\n",
    "cause_of_death_df = finalDf[['month_of_death', '358_cause_recode']].copy()\n",
    "\n",
    "#Find out how many years of data we have\n",
    "total_years = finalDf['current_data_year'].nunique()\n",
    "\n",
    "#Use numbers instead of month name to allow for sorting\n",
    "cause_of_death_df = cause_of_death_df.replace({\"month_of_death\": inv_dict})\n",
    "\n",
    "#Create a new dataframe of vehicle deaths, grouped by month\n",
    "grouped_df = cause_of_death_df.groupby(['month_of_death']).count()\n",
    "grouped_df.reset_index(drop=False, inplace=True)\n",
    "grouped_df[\"358_cause_recode\"] = pd.to_numeric(grouped_df[\"358_cause_recode\"])"
   ]
  },
  {
   "cell_type": "markdown",
   "metadata": {},
   "source": [
    "### Create a bar graph that displays avg number of vehicle deaths per month "
   ]
  },
  {
   "cell_type": "code",
   "execution_count": 10,
   "metadata": {},
   "outputs": [
    {
     "data": {
      "image/png": "[encoded data removed]",
      "text/plain": [
       "<Figure size 720x360 with 1 Axes>"
      ]
     },
     "metadata": {
      "needs_background": "light"
     },
     "output_type": "display_data"
    }
   ],
   "source": [
    "x_axis = np.arange(1,13,1)\n",
    "y_axis = grouped_df['358_cause_recode'] / total_years\n",
    "\n",
    "tick_locations = [value for value in x_axis]\n",
    "\n",
    "plt.figure(figsize=(10,5))\n",
    "\n",
    "plt.bar(x_axis, y_axis)\n",
    "\n",
    "plt.xticks(tick_locations, [\"January\", \"February\", \"March\", \"April\", \"May\", \"June\", \"July\", \"August\",\\\n",
    "                            \"September\", \"October\", \"November\", \"December\"], rotation='vertical')\n",
    "\n",
    "plt.tight_layout()\n",
    "\n",
    "# Add labels & title\n",
    "plt.title(\"Motor Vehicle Accident Deaths by Month\")\n",
    "plt.xlabel(\"Month of Death\")\n",
    "plt.ylabel(\"Avg Number of Deaths per Year\")\n",
    "\n",
    "plt.show()"
   ]
  },
  {
   "cell_type": "markdown",
   "metadata": {},
   "source": [
    "### ANOVA Test 1: determine whether the number of deaths per month is statistically significant"
   ]
  },
  {
   "cell_type": "code",
   "execution_count": 11,
   "metadata": {},
   "outputs": [],
   "source": [
    "#Add the current data year in to the cause_of_death_df\n",
    "cause_of_death_df = finalDf[['month_of_death', 'current_data_year', '358_cause_recode']].copy()\n",
    "\n",
    "grouped_df = cause_of_death_df.groupby(['current_data_year', 'month_of_death']).count()\n",
    "grouped_df.reset_index(drop=False, inplace=True)"
   ]
  },
  {
   "cell_type": "code",
   "execution_count": 12,
   "metadata": {},
   "outputs": [
    {
     "data": {
      "text/plain": [
       "F_onewayResult(statistic=42.425595897501985, pvalue=2.385867742925349e-06)"
      ]
     },
     "execution_count": 12,
     "metadata": {},
     "output_type": "execute_result"
    }
   ],
   "source": [
    "# Run ANOVA test to compare the month with the most deaths (August) to the most with the least deaths (February)\n",
    "February = grouped_df[grouped_df[\"month_of_death\"] == 'February'][\"358_cause_recode\"]\n",
    "August = grouped_df[grouped_df[\"month_of_death\"] == 'August'][\"358_cause_recode\"]\n",
    "\n",
    "stats.f_oneway(February, August)"
   ]
  },
  {
   "cell_type": "markdown",
   "metadata": {},
   "source": [
    "#### Null hypothesis: there is no significant difference in the number of deaths that happen in February vs August. \n",
    "##### Anova test results: We can reject the null hypothesis because the p-value is less than 0.05. More motor vehicle deaths happen in August than in February."
   ]
  },
  {
   "cell_type": "markdown",
   "metadata": {},
   "source": [
    "### ANOVA Test 2: determine if there's a significant difference between the number of deaths that happen in the winter vs the summer"
   ]
  },
  {
   "cell_type": "code",
   "execution_count": 13,
   "metadata": {},
   "outputs": [
    {
     "data": {
      "text/html": [
       "<div>\n",
       "<style scoped>\n",
       "    .dataframe tbody tr th:only-of-type {\n",
       "        vertical-align: middle;\n",
       "    }\n",
       "\n",
       "    .dataframe tbody tr th {\n",
       "        vertical-align: top;\n",
       "    }\n",
       "\n",
       "    .dataframe thead th {\n",
       "        text-align: right;\n",
       "    }\n",
       "</style>\n",
       "<table border=\"1\" class=\"dataframe\">\n",
       "  <thead>\n",
       "    <tr style=\"text-align: right;\">\n",
       "      <th></th>\n",
       "      <th>current_data_year</th>\n",
       "      <th>Season</th>\n",
       "      <th>358_cause_recode</th>\n",
       "    </tr>\n",
       "  </thead>\n",
       "  <tbody>\n",
       "    <tr>\n",
       "      <th>0</th>\n",
       "      <td>2005</td>\n",
       "      <td>Fall</td>\n",
       "      <td>11770</td>\n",
       "    </tr>\n",
       "    <tr>\n",
       "      <th>1</th>\n",
       "      <td>2005</td>\n",
       "      <td>Spring</td>\n",
       "      <td>10670</td>\n",
       "    </tr>\n",
       "    <tr>\n",
       "      <th>2</th>\n",
       "      <td>2005</td>\n",
       "      <td>Summer</td>\n",
       "      <td>12069</td>\n",
       "    </tr>\n",
       "    <tr>\n",
       "      <th>3</th>\n",
       "      <td>2005</td>\n",
       "      <td>Winter</td>\n",
       "      <td>9858</td>\n",
       "    </tr>\n",
       "    <tr>\n",
       "      <th>4</th>\n",
       "      <td>2006</td>\n",
       "      <td>Fall</td>\n",
       "      <td>11471</td>\n",
       "    </tr>\n",
       "  </tbody>\n",
       "</table>\n",
       "</div>"
      ],
      "text/plain": [
       "   current_data_year  Season  358_cause_recode\n",
       "0               2005    Fall             11770\n",
       "1               2005  Spring             10670\n",
       "2               2005  Summer             12069\n",
       "3               2005  Winter              9858\n",
       "4               2006    Fall             11471"
      ]
     },
     "execution_count": 13,
     "metadata": {},
     "output_type": "execute_result"
    }
   ],
   "source": [
    "# Create a new dataframe segmented by seasons\n",
    "\n",
    "seasons_dict = {\n",
    "      'January':\"Winter\",\n",
    "      'February':\"Winter\",\n",
    "      'December':\"Winter\",\n",
    "      'June':\"Summer\",\n",
    "      'July':\"Summer\",\n",
    "      'August':\"Summer\",\n",
    "      'September':\"Fall\",\n",
    "      'October':\"Fall\",\n",
    "      'November':\"Fall\",\n",
    "      'March':\"Spring\",\n",
    "      'April':\"Spring\",\n",
    "      'May':\"Spring\"}\n",
    "\n",
    "finalDf[\"Season\"] = finalDf['month_of_death']\n",
    "seasons_df = finalDf.replace({\"Season\": seasons_dict})\n",
    "seasons_df = seasons_df[['current_data_year', 'Season', '358_cause_recode']]\n",
    "seasons_df = seasons_df.groupby(['current_data_year', 'Season']).count()\n",
    "seasons_df.reset_index(drop=False, inplace=True)\n",
    "\n",
    "seasons_df.head()"
   ]
  },
  {
   "cell_type": "code",
   "execution_count": 14,
   "metadata": {},
   "outputs": [
    {
     "data": {
      "text/plain": [
       "<matplotlib.axes._subplots.AxesSubplot at 0x2219368a208>"
      ]
     },
     "execution_count": 14,
     "metadata": {},
     "output_type": "execute_result"
    },
    {
     "data": {
      "image/png": "[encoded data removed]",
      "text/plain": [
       "<Figure size 360x360 with 1 Axes>"
      ]
     },
     "metadata": {},
     "output_type": "display_data"
    }
   ],
   "source": [
    "#Create a pie chart that shows deaths by season\n",
    "finalDf[\"Season\"] = finalDf['month_of_death']\n",
    "seasons_df2 = finalDf.replace({\"Season\": seasons_dict})\n",
    "seasons_df2 = seasons_df2[['Season', '358_cause_recode']]\n",
    "seasons_df2 = seasons_df2.groupby(['Season']).count()\n",
    "seasons_df2.reset_index(drop=False, inplace=True)\n",
    "my_labels = 'Spring','Fall','Summer','Winter'\n",
    "\n",
    "seasons_df2\n",
    "seasons_df2.plot.pie(y='358_cause_recode', figsize=(5, 5), labels=my_labels, autopct='%1.1f%%')"
   ]
  },
  {
   "cell_type": "code",
   "execution_count": 15,
   "metadata": {},
   "outputs": [
    {
     "data": {
      "text/plain": [
       "F_onewayResult(statistic=18.781165691792996, pvalue=0.00032243751192492423)"
      ]
     },
     "execution_count": 15,
     "metadata": {},
     "output_type": "execute_result"
    }
   ],
   "source": [
    "# ANOVA test by Season\n",
    "Winter = seasons_df[seasons_df[\"Season\"] == 'Winter'][\"358_cause_recode\"]\n",
    "Summer = seasons_df[seasons_df[\"Season\"] == 'Summer'][\"358_cause_recode\"]\n",
    "\n",
    "stats.f_oneway(Winter, Summer)"
   ]
  },
  {
   "cell_type": "markdown",
   "metadata": {},
   "source": [
    "#### Null hypothesis: there is no significant difference in the number of deaths that happen in Winter vs Summer \n",
    "##### Anova test results: We can reject the null hypothesis because the p-value is less than 0.05. More motor vehicle deaths happen in Summer than Winter."
   ]
  },
  {
   "cell_type": "code",
   "execution_count": 16,
   "metadata": {},
   "outputs": [],
   "source": [
    "## Amanda's code ends here"
   ]
  },
  {
   "cell_type": "markdown",
   "metadata": {},
   "source": [
    "## Analysis"
   ]
  },
  {
   "cell_type": "code",
   "execution_count": 33,
   "metadata": {
    "scrolled": true
   },
   "outputs": [
    {
     "name": "stdout",
     "output_type": "stream",
     "text": [
      "12\n"
     ]
    }
   ],
   "source": []
  },
  {
   "cell_type": "code",
   "execution_count": null,
   "metadata": {},
   "outputs": [],
   "source": []
  },
  {
   "cell_type": "code",
   "execution_count": null,
   "metadata": {},
   "outputs": [],
   "source": []
  },
  {
   "cell_type": "code",
   "execution_count": null,
   "metadata": {},
   "outputs": [],
   "source": []
  }
 ],
 "metadata": {
  "kernelspec": {
   "display_name": "Python 3",
   "language": "python",
   "name": "python3"
  },
  "language_info": {
   "codemirror_mode": {
    "name": "ipython",
    "version": 3
   },
   "file_extension": ".py",
   "mimetype": "text/x-python",
   "name": "python",
   "nbconvert_exporter": "python",
   "pygments_lexer": "ipython3",
   "version": "3.6.10"
  }
 },
 "nbformat": 4,
 "nbformat_minor": 4
}
