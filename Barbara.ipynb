{
 "cells": [
  {
   "cell_type": "markdown",
   "metadata": {},
   "source": [
    "#  This is a shared notebook for Project I - Group 3"
   ]
  },
  {
   "cell_type": "markdown",
   "metadata": {},
   "source": [
    "## Data Cleaning"
   ]
  },
  {
   "cell_type": "code",
   "execution_count": null,
   "metadata": {},
   "outputs": [],
   "source": [
    "#Dependencies\n",
    "import os\n",
    "import pandas as pd\n",
    "import calendar\n",
    "import glob\n",
    "import seaborn as sns\n",
    "import numpy as np\n",
    "import matplotlib.pyplot as plt\n",
    "import scipy.stats as stats\n",
    "#from tabulate import tabulate\n",
    "#import pingouin as pg\n",
    "from statsmodels.stats.multicomp import pairwise_tukeyhsd\n",
    "#from pyvttbl import DataFrame\n",
    "from statsmodels.formula.api import ols\n",
    "from statsmodels.stats.anova import anova_lm\n",
    "from statsmodels.graphics.factorplots import interaction_plot\n",
    "import statsmodels.api as sm\n",
    "from scipy.stats import levene\n",
    "from scipy.stats import bartlett\n",
    "from scipy.stats import linregress\n",
    "import pingouin as pg\n",
    "from functools import reduce\n",
    "from pingouin import kruskal, read_dataset"
   ]
  },
  {
   "cell_type": "code",
   "execution_count": null,
   "metadata": {},
   "outputs": [],
   "source": [
    "#csvDir = os.path.join(\"Resources\")\n",
    "#col_list = [\"month_of_death\",\"day_of_week_of_death\",\"current_data_year\",\n",
    "#                              \"manner_of_death\",\"358_cause_recode\",\"sex\",\"detail_age\"]\n",
    "#masterDf = pd.DataFrame()\n",
    "#files = os.listdir(csvDir)\n",
    "#for file in files:\n",
    "#    if file.endswith(\".csv\"):\n",
    "#        curCsv = os.path.join(csvDir,file)\n",
    "#        with open(curCsv) as file:\n",
    "#            x = pd.read_csv(file, usecols=col_list)\n",
    "#            masterDf = pd.concat([masterDf,x],axis=0)"
   ]
  },
  {
   "cell_type": "code",
   "execution_count": null,
   "metadata": {},
   "outputs": [],
   "source": [
    "path = '/Users/bmacgreg/Documents/Bootcamp/Project_1/Project-1Team3/bundle_archive'\n",
    "col_list = [\"month_of_death\",\"day_of_week_of_death\",\"current_data_year\",\n",
    "                              \"manner_of_death\",\"358_cause_recode\",\"sex\",\"detail_age\"]\n",
    "masterDf = pd.DataFrame()\n",
    "files = glob.glob(path + \"/20*.csv\")\n",
    "for file in files:\n",
    "    x = pd.read_csv(file, usecols=col_list)\n",
    "    masterDf = pd.concat([masterDf,x],axis=0)\n",
    "masterDf.sort_values(by=['current_data_year'])\n",
    "masterDf"
   ]
  },
  {
   "cell_type": "code",
   "execution_count": null,
   "metadata": {},
   "outputs": [],
   "source": [
    "#Filter to only deaths related to cars\n",
    "car_death_data = masterDf[(masterDf[\"358_cause_recode\"] >=385) & (masterDf[\"358_cause_recode\"] <=398)]\n",
    "car_death_data"
   ]
  },
  {
   "cell_type": "code",
   "execution_count": null,
   "metadata": {},
   "outputs": [],
   "source": [
    "#Clean up the dataframe so that it is readable\n",
    "month_dict = {\n",
    "      1:\"January\",\n",
    "      2:\"February\",\n",
    "      3:\"March\",\n",
    "      4:\"April\",\n",
    "      5:\"May\",\n",
    "      6:\"June\",\n",
    "      7:\"July\",\n",
    "      8:\"August\",\n",
    "      9:\"September\",\n",
    "      10:\"October\",\n",
    "      11:\"November\",\n",
    "      12:\"December\"}\n",
    "      \n",
    "day_of_week_dict = {\n",
    "      1:\"Sunday\",\n",
    "      2:\"Monday\",\n",
    "      3:\"Tuesday\",\n",
    "      4:\"Wednesday\",\n",
    "      5:\"Thursday\",\n",
    "      6:\"Friday\",\n",
    "      7:\"Saturday\",\n",
    "      9:\"Unknown\"}\n",
    "\n",
    "manner_of_death_dict = {\n",
    "      1:\"Accident\",\n",
    "      2:\"Suicide\",\n",
    "      3:\"Homicide\",\n",
    "      4:\"Pending investigation\",\n",
    "      5:\"Could not determine\",\n",
    "      6:\"Self-Inflicted\",\n",
    "      7:\"Natural\"}\n",
    "#       \"Blank\":\"Not specified\"}\n",
    "\n",
    "cause_recode_dict = {\n",
    "      385:\" 385- Motor vehicle accidents\",\n",
    "      386:\" 386- Pedestrian involved in collision with motor vehicle\",\n",
    "      387:\" 387- Pedalcyclist involved in collision with motor vehicle\",\n",
    "      388:\" 388- Motorcyclist involved in any accident except collision with railway train\",\n",
    "      389:\" 389- Motor vehicle accident involving collision with railway train\",\n",
    "      390:\" 390- Motorcyclist involved in collision with railway train\",\n",
    "      391:\" 391- Other motor vehicle accident involving collision with railway train\",\n",
    "      392:\" 392- Occupant of motor vehicle involved in collision with other (non- motorized) road vehicle, streetcar, animal or pedestrian\",\n",
    "      393:\" 393- Occupant of car, pickup truck or van involved in collision with other motor vehicle\",\n",
    "      394:\" 394- Occupant of heavy transport vehicle or bus involved in collision with other motor vehicle\",\n",
    "      395:\" 395- Occupant of motor vehicle involved in non-collision accident\",\n",
    "      396:\" 396- Occupant of special-use motor vehicle involved in any accident\",\n",
    "      397:\" 397- Other and unspecified motor vehicle accidents\",\n",
    "      398:\" 398- Streetcar accidents\"}\n",
    "    \n",
    "\n",
    "clean_df = car_death_data.replace({\"month_of_death\": month_dict, \n",
    "                        \"day_of_week_of_death\": day_of_week_dict,\n",
    "                        \"manner_of_death\": manner_of_death_dict,\n",
    "                        \"358_cause_recode\": cause_recode_dict})\n",
    "\n",
    "clean_df"
   ]
  },
  {
   "cell_type": "code",
   "execution_count": null,
   "metadata": {},
   "outputs": [],
   "source": [
    "#  check quality of data\n",
    "#  list all unique values in each columns\n",
    "\n",
    "colNames = list(clean_df.columns)\n",
    "for col in colNames:\n",
    "    print(col)\n",
    "    print(f\"{clean_df[col].unique()}\")\n",
    "    print(\"----------\")"
   ]
  },
  {
   "cell_type": "code",
   "execution_count": null,
   "metadata": {},
   "outputs": [],
   "source": [
    "#  Clean up\n",
    "#  Remove not logical data \n",
    "# ie: age of 999, day of week : Unknown, manner_of_death nan, need filter by Accident\n",
    "finalDf = clean_df[clean_df[\"detail_age\"] != 999]\n",
    "finalDf = finalDf[finalDf[\"manner_of_death\"] == \"Accident\"]\n",
    "finalDf = finalDf[finalDf[\"day_of_week_of_death\"] != \"Unknown\"]\n",
    "finalDf.sort_values(by='current_data_year', ascending=False)\n",
    "finalDf"
   ]
  },
  {
   "cell_type": "code",
   "execution_count": null,
   "metadata": {},
   "outputs": [],
   "source": [
    "# Enforcing order of day of week and months\n",
    "finalDf['day_of_week_of_death'] = pd.Categorical(finalDf['day_of_week_of_death'], categories=\n",
    "    ['Monday','Tuesday','Wednesday','Thursday','Friday','Saturday', 'Sunday'],ordered=True)\n",
    "finalDf[\"month_of_death\"] =  pd.Categorical(finalDf['month_of_death'], categories=\n",
    "    [\"January\",\"February\",\"March\",\"April\",\"May\",\"June\",\"July\",\"August\",\"September\",\"October\",\"November\",\"December\"],ordered=True)"
   ]
  },
  {
   "cell_type": "code",
   "execution_count": null,
   "metadata": {},
   "outputs": [],
   "source": [
    "finalDf.dtypes"
   ]
  },
  {
   "cell_type": "code",
   "execution_count": null,
   "metadata": {},
   "outputs": [],
   "source": []
  },
  {
   "cell_type": "code",
   "execution_count": null,
   "metadata": {},
   "outputs": [],
   "source": []
  },
  {
   "cell_type": "code",
   "execution_count": null,
   "metadata": {},
   "outputs": [],
   "source": []
  },
  {
   "cell_type": "code",
   "execution_count": null,
   "metadata": {},
   "outputs": [],
   "source": []
  },
  {
   "cell_type": "markdown",
   "metadata": {},
   "source": [
    "## Analysis"
   ]
  },
  {
   "cell_type": "code",
   "execution_count": null,
   "metadata": {
    "scrolled": true
   },
   "outputs": [],
   "source": [
    "finalDf.dtypes"
   ]
  },
  {
   "cell_type": "code",
   "execution_count": null,
   "metadata": {},
   "outputs": [],
   "source": [
    "census_summary_df = pd.read_csv(\"nc-est2019-agesex_rearranged.csv\")\n",
    "census_summary_df = census_summary_df.rename(columns={'Age group': 'Age_group', 'Both sexes': 'Both_sexes', 'Year':'current_data_year'})\n",
    "census_summary_df"
   ]
  },
  {
   "cell_type": "code",
   "execution_count": null,
   "metadata": {},
   "outputs": [],
   "source": [
    "def label_age_group (row):\n",
    "    if row['detail_age'] < 5 :\n",
    "        return '1'\n",
    "    elif row['detail_age'] < 10 :\n",
    "        return '2'\n",
    "    elif row['detail_age'] < 15 :\n",
    "        return '3'\n",
    "    elif row['detail_age'] < 20 :\n",
    "        return '4'\n",
    "    elif row['detail_age'] < 25 :\n",
    "        return '5'\n",
    "    elif row['detail_age'] < 30 :\n",
    "        return '6'\n",
    "    elif row['detail_age'] < 35 :\n",
    "        return '7'\n",
    "    elif row['detail_age'] < 40 :\n",
    "        return '8'\n",
    "    elif row['detail_age'] < 45 :\n",
    "        return '9'\n",
    "    elif row['detail_age'] < 50 :\n",
    "        return '10'\n",
    "    elif row['detail_age'] < 55 :\n",
    "        return '11'\n",
    "    elif row['detail_age'] < 60 :\n",
    "        return '12'\n",
    "    elif row['detail_age'] < 65 :\n",
    "        return '13'\n",
    "    elif row['detail_age'] < 70 :\n",
    "        return '14'\n",
    "    elif row['detail_age'] < 75 :\n",
    "        return '15'\n",
    "    elif row['detail_age'] < 80 :\n",
    "        return '16'\n",
    "    elif row['detail_age'] < 85 :\n",
    "        return '17'    \n",
    "    else:\n",
    "        return '18'\n",
    "\n",
    "finalDf['Age_group'] = finalDf.apply (lambda row: label_age_group(row), axis=1)\n",
    "finalDf.sort_values(by=['current_data_year'])\n",
    "finalDf\n"
   ]
  },
  {
   "cell_type": "code",
   "execution_count": null,
   "metadata": {},
   "outputs": [],
   "source": [
    "census_summary_df.dtypes"
   ]
  },
  {
   "cell_type": "code",
   "execution_count": null,
   "metadata": {},
   "outputs": [],
   "source": [
    "finalDf[\"Age_group\"] = pd.to_numeric(finalDf[\"Age_group\"])\n",
    "finalDf.dtypes"
   ]
  },
  {
   "cell_type": "code",
   "execution_count": null,
   "metadata": {},
   "outputs": [],
   "source": [
    "finalDf_with_census = pd.merge(finalDf, census_summary_df, how='left', on=['Age_group', 'current_data_year'])\n",
    "finalDf_with_census.sort_values(by=['current_data_year'])\n",
    "finalDf_with_census"
   ]
  },
  {
   "cell_type": "code",
   "execution_count": null,
   "metadata": {},
   "outputs": [],
   "source": [
    "total_deaths_by_m_and_y = finalDf.groupby(['month_of_death', 'current_data_year']).size().reset_index(name='counts')\n",
    "ax = sns.boxplot(x=\"month_of_death\", y='counts', data=total_deaths_by_m_and_y)\n",
    "ax.set_xticklabels(ax.get_xticklabels(), rotation=45, horizontalalignment='right')\n",
    "ax.set(xlabel='Month of Death', ylabel='Deaths')\n",
    "ax.set_title(\"Total Motor Vehicle Deaths by Month (2005-2015)\")"
   ]
  },
  {
   "cell_type": "code",
   "execution_count": null,
   "metadata": {},
   "outputs": [],
   "source": [
    "#Test for equality of variance with pingouin\n",
    "#Levene's test for equal variance (acceptable for non-normal distributions)\n",
    "#https://docs.scipy.org/doc/scipy/reference/generated/scipy.stats.levene.html\n",
    "levene_test = pg.homoscedasticity(total_deaths_by_m_and_y, dv='counts', group='month_of_death')\n",
    "print(levene_test)"
   ]
  },
  {
   "cell_type": "code",
   "execution_count": null,
   "metadata": {},
   "outputs": [],
   "source": [
    "#One-way Anova with pingouin\n",
    "total_deaths_by_m_and_y\n",
    "aov = pg.anova(data=total_deaths_by_m_and_y, dv='counts', between='month_of_death', detailed=True)\n",
    "print(aov)"
   ]
  },
  {
   "cell_type": "code",
   "execution_count": null,
   "metadata": {},
   "outputs": [],
   "source": []
  },
  {
   "cell_type": "code",
   "execution_count": null,
   "metadata": {},
   "outputs": [],
   "source": [
    "#Tukey test\n",
    "\n",
    "#http://hamelg.blogspot.com/2015/11/python-for-data-analysis-part-16_23.html\n"
   ]
  },
  {
   "cell_type": "code",
   "execution_count": null,
   "metadata": {},
   "outputs": [],
   "source": [
    "#For all pairwise comparisons:\n",
    "#http://hamelg.blogspot.com/2015/11/python-for-data-analysis-part-16_23.html\n"
   ]
  },
  {
   "cell_type": "code",
   "execution_count": null,
   "metadata": {},
   "outputs": [],
   "source": [
    "ax = sns.countplot(hue=\"current_data_year\", x=\"day_of_week_of_death\", data=finalDf)\n",
    "ax.legend(bbox_to_anchor=(1.05, 1), loc=2,borderaxespad=0.)\n",
    "ax.set_title(\"Total Motor Vehicle Deaths by Year and Day of Week (2005-2015)\")\n",
    "ax.set_xticklabels(ax.get_xticklabels(), rotation=45, horizontalalignment='right')\n",
    "ax.set(xlabel='Day of Week of Death', ylabel='Deaths')\n",
    "#https://stackoverflow.com/questions/27019079/move-seaborn-plot-legend-to-a-different-position"
   ]
  },
  {
   "cell_type": "code",
   "execution_count": null,
   "metadata": {},
   "outputs": [],
   "source": [
    "total_deaths_by_d_and_y = finalDf.groupby(['day_of_week_of_death', 'current_data_year']).size().reset_index(name='counts')\n",
    "#total_deaths_by_d_and_y\n",
    "ax = sns.boxplot(x=\"day_of_week_of_death\", y='counts', data=total_deaths_by_d_and_y)\n",
    "ax.set_xticklabels(ax.get_xticklabels(), rotation=45, horizontalalignment='right')\n",
    "ax.set_title(\"Total Motor Vehicle Deaths by Day of Week (2005-2015)\")\n",
    "ax.set(xlabel='Day of Week of Death', ylabel='Deaths')\n",
    "plt.subplots_adjust(bottom=0.3)\n",
    "plt.savefig('Deaths_by_day_of_week.pdf')\n"
   ]
  },
  {
   "cell_type": "code",
   "execution_count": null,
   "metadata": {},
   "outputs": [],
   "source": [
    "#Test for equality of variance with pingouin\n",
    "#Levene's test for equal variance (acceptable for non-normal distributions)\n",
    "#https://docs.scipy.org/doc/scipy/reference/generated/scipy.stats.levene.html\n",
    "levene_test = pg.homoscedasticity(total_deaths_by_d_and_y, dv='counts', group='day_of_week_of_death')\n",
    "print(levene_test)"
   ]
  },
  {
   "cell_type": "code",
   "execution_count": null,
   "metadata": {},
   "outputs": [],
   "source": [
    "#One-way Anova with pingouin\n",
    "aov = pg.anova(data=total_deaths_by_d_and_y, dv='counts', between='day_of_week_of_death', detailed=True)\n",
    "print(aov)"
   ]
  },
  {
   "cell_type": "code",
   "execution_count": null,
   "metadata": {},
   "outputs": [],
   "source": [
    "dgroup1 = total_deaths_by_d_and_y[total_deaths_by_d_and_y[\"day_of_week_of_death\"] == \"Monday\"][\"counts\"]\n",
    "dgroup2 = total_deaths_by_d_and_y[total_deaths_by_d_and_y[\"day_of_week_of_death\"] == \"Tuesday\"][\"counts\"]\n",
    "dgroup3 = total_deaths_by_d_and_y[total_deaths_by_d_and_y[\"day_of_week_of_death\"] == \"Wednesday\"][\"counts\"]\n",
    "dgroup4 = total_deaths_by_d_and_y[total_deaths_by_d_and_y[\"day_of_week_of_death\"] == \"Thursday\"][\"counts\"]\n",
    "dgroup5 = total_deaths_by_d_and_y[total_deaths_by_d_and_y[\"day_of_week_of_death\"] == \"Friday\"][\"counts\"]\n",
    "dgroup6 = total_deaths_by_d_and_y[total_deaths_by_d_and_y[\"day_of_week_of_death\"] == \"Saturday\"][\"counts\"]\n",
    "dgroup7 = total_deaths_by_d_and_y[total_deaths_by_d_and_y[\"day_of_week_of_death\"] == \"Sunday\"][\"counts\"]"
   ]
  },
  {
   "cell_type": "code",
   "execution_count": null,
   "metadata": {},
   "outputs": [],
   "source": [
    "#Levene's test for equal variance\n",
    "#https://docs.scipy.org/doc/scipy/reference/generated/scipy.stats.levene.html\n",
    "stat, p = levene(dgroup1, dgroup2, dgroup3, dgroup4, dgroup5, dgroup6, dgroup7)\n",
    "p\n",
    "\n",
    "print(f'Levene test p-value {\"{:.2e}\".format(p)}')\n",
    "if p<0.05:\n",
    "    print(f'p < 0.05, sample variances too dissimilar for ANOVA')\n",
    "else:\n",
    "    print(f'p >= 0.05, sample variances similar enough for ANOVA')"
   ]
  },
  {
   "cell_type": "code",
   "execution_count": null,
   "metadata": {},
   "outputs": [],
   "source": [
    "#ANOVA\n",
    "\n",
    "stats.f_oneway(dgroup1, dgroup2, dgroup3, dgroup4, dgroup5, dgroup6, dgroup7)\n",
    "\n",
    "print(\"ANOVA\")\n",
    "print(F_onewayResult)\n",
    "if F_onewayResult.pvalue < 0.05:\n",
    "    print(f'p < 0.05, can reject the null hypothesis that the sample means are equal')\n",
    "else:\n",
    "    print(f'p >= 0.05, cannot reject the null hypothesis that the sample means are equal')"
   ]
  },
  {
   "cell_type": "code",
   "execution_count": null,
   "metadata": {},
   "outputs": [],
   "source": [
    "total_deaths_by_age_group_and_y = finalDf_with_census.groupby(['Age_group', 'current_data_year']).size().reset_index(name='counts')\n",
    "\n",
    "ax = sns.boxplot(x=\"Age_group\", y='counts', data=total_deaths_by_age_group_and_y)\n",
    "ax.set_xticklabels(ax.get_xticklabels())\n",
    "ax.set_title(\"Total Motor Vehicle Deaths by Age Group (2005-2015)\")\n",
    "ax.set(xlabel='Age Group (years)', ylabel='Deaths')\n",
    "plt.xticks([0, 1, 2, 3, 4, 5, 6, 7, 8, 9, 10, 11, 12, 13, 14, 15, 16, 17], \n",
    "           ['0-4', '5-9', '10-14','15-19','20-24','25-29','30-34','35-39','40-44',\n",
    "            '45-49','50-54','55-59','60-64','65-69','70-74','75-79','80-84','85 and over'])\n",
    "ax.set_xticklabels(ax.get_xticklabels(), rotation=45, horizontalalignment='center')\n",
    "plt.subplots_adjust(bottom=0.3)\n",
    "plt.savefig('Deaths_by_age_group.pdf')"
   ]
  },
  {
   "cell_type": "code",
   "execution_count": null,
   "metadata": {},
   "outputs": [],
   "source": [
    "#Test for equality of variance with pingouin\n",
    "#Levene's test for equal variance (acceptable for non-normal distributions)\n",
    "#https://docs.scipy.org/doc/scipy/reference/generated/scipy.stats.levene.html\n",
    "levene_test = pg.homoscedasticity(total_deaths_by_age_group_and_y, dv='counts', group='Age_group')\n",
    "print(levene_test)"
   ]
  },
  {
   "cell_type": "code",
   "execution_count": null,
   "metadata": {},
   "outputs": [],
   "source": [
    "#Kruskal-Wallis H-test: Are differences among groups significant?\n",
    "#https://pingouin-stats.org/generated/pingouin.kruskal.html\n",
    "Kruskal_Wallis_H_test = kruskal(data=total_deaths_by_age_group_and_y, dv='counts', between='Age_group')\n",
    "print(Kruskal_Wallis_H_test)\n",
    "#Low p value suggests can reject the null hypothesis that the population median of groups are equal."
   ]
  },
  {
   "cell_type": "code",
   "execution_count": null,
   "metadata": {},
   "outputs": [],
   "source": []
  },
  {
   "cell_type": "code",
   "execution_count": null,
   "metadata": {},
   "outputs": [],
   "source": [
    "#Can ANOVA test for differences among weekdays be run on age groups individually?\n",
    "\n",
    "#Count deaths by age group, year, and day\n",
    "\n",
    "total_deaths_by_age_group_y_and_day = finalDf_with_census.groupby(['Age_group', 'current_data_year', 'day_of_week_of_death']).size().reset_index(name='counts')\n",
    "total_deaths_by_age_group_y_and_day"
   ]
  },
  {
   "cell_type": "code",
   "execution_count": null,
   "metadata": {},
   "outputs": [],
   "source": [
    "#Plot age groups individually\n",
    "#Age_group = [1, 2, 3, 4, 5, 6, 7, 8, 9, 10, 11, 12, 13, 14, 15, 16, 17, 18]\n",
    "total_deaths_by_age_group_y_and_day['Age range'] = total_deaths_by_age_group_y_and_day['Age_group'].replace({1:'0-4', 2:'5-9', 3:'10-14', 4:'15-19', 5:'20-24', 6:'25-29', 7:'30-34', 8:'35-39', 9:'40-44',10:'45-49',11:'50-54', 12:'55-59' , 13:'60-64', 14:'65-69', 15:'70-74', 16:'75-79', 17:'80-84', 18:'85 and over'})\n",
    "\n",
    "ax = sns.catplot(x=\"day_of_week_of_death\", y=\"counts\",\n",
    "                col=\"Age range\", col_wrap=6,\n",
    "                data=total_deaths_by_age_group_y_and_day, kind=\"box\",\n",
    "                height=4, aspect=.7);\n",
    "ax.set_axis_labels(\"\", \"Deaths\")\n",
    "ax.set_xticklabels(rotation=45, horizontalalignment='right')\n",
    "plt.subplots_adjust(top=0.92, bottom=0.08)\n",
    "ax.fig.suptitle('Total Motor Vehicle Deaths by Age Group and Day of Week of Death (2005-2015)', fontsize=16) \n",
    "plt.savefig('Deaths_by_age_group_and_day_of_week.pdf')\n",
    "#https://stackoverflow.com/questions/43920341/python-seaborn-facetgrid-change-titles"
   ]
  },
  {
   "cell_type": "code",
   "execution_count": null,
   "metadata": {},
   "outputs": [],
   "source": [
    "#????\n",
    "#Test for equality of variance with pingouin\n",
    "#Levene's test for equal variance (acceptable for non-normal distributions)\n",
    "#https://docs.scipy.org/doc/scipy/reference/generated/scipy.stats.levene.html\n",
    "levene_test_day = pg.homoscedasticity(total_deaths_by_age_group_y_and_day, dv='counts', group=\"day_of_week_of_death\")\n",
    "print(levene_test_day)\n",
    "levene_test_age_range = pg.homoscedasticity(total_deaths_by_age_group_y_and_day, dv='counts', group=\"Age range\")\n",
    "print(levene_test_age_range)"
   ]
  },
  {
   "cell_type": "code",
   "execution_count": null,
   "metadata": {},
   "outputs": [],
   "source": [
    "#????\n",
    "#Two-way ANOVA with pingouin\n",
    "ANOVA_d_and_age_group = total_deaths_by_age_group_y_and_day.anova(dv=\"counts\", between=[\"day_of_week_of_death\", \"Age range\"]).round(3)\n",
    "print(ANOVA_d_and_age_group)\n",
    "#low p-values suggest significant effect of both variables, and significant interaction"
   ]
  },
  {
   "cell_type": "code",
   "execution_count": null,
   "metadata": {},
   "outputs": [],
   "source": [
    "total_deaths_by_age_group_y_and_day"
   ]
  },
  {
   "cell_type": "code",
   "execution_count": null,
   "metadata": {},
   "outputs": [],
   "source": []
  },
  {
   "cell_type": "code",
   "execution_count": null,
   "metadata": {},
   "outputs": [],
   "source": []
  },
  {
   "cell_type": "code",
   "execution_count": null,
   "metadata": {},
   "outputs": [],
   "source": [
    "grouped_by_age_group = finalDf_with_census.groupby(finalDf_with_census.Age_group)\n",
    "\n",
    "Age_group_1 = grouped_by_age_group.get_group(1)\n",
    "Age_group_2 = grouped_by_age_group.get_group(2)\n",
    "Age_group_3 = grouped_by_age_group.get_group(3)\n",
    "Age_group_4 = grouped_by_age_group.get_group(4)\n",
    "Age_group_5 = grouped_by_age_group.get_group(5)\n",
    "Age_group_6 = grouped_by_age_group.get_group(6)\n",
    "Age_group_7 = grouped_by_age_group.get_group(7)\n",
    "Age_group_8 = grouped_by_age_group.get_group(8)\n",
    "Age_group_9 = grouped_by_age_group.get_group(9)\n",
    "Age_group_10 = grouped_by_age_group.get_group(10)\n",
    "Age_group_11 = grouped_by_age_group.get_group(11)\n",
    "Age_group_12 = grouped_by_age_group.get_group(12)\n",
    "Age_group_13 = grouped_by_age_group.get_group(13)\n",
    "Age_group_14 = grouped_by_age_group.get_group(14)\n",
    "Age_group_15 = grouped_by_age_group.get_group(15)\n",
    "Age_group_16 = grouped_by_age_group.get_group(16)\n",
    "Age_group_17 = grouped_by_age_group.get_group(17)\n",
    "Age_group_18 = grouped_by_age_group.get_group(18)\n",
    "\n",
    "Age_group_1_df_by_y_and_day = Age_group_1.groupby(['day_of_week_of_death', 'current_data_year']).size().reset_index(name='counts')\n",
    "Age_group_2_df_by_y_and_day = Age_group_2.groupby(['day_of_week_of_death', 'current_data_year']).size().reset_index(name='counts')\n",
    "Age_group_3_df_by_y_and_day = Age_group_3.groupby(['day_of_week_of_death', 'current_data_year']).size().reset_index(name='counts')\n",
    "Age_group_4_df_by_y_and_day = Age_group_4.groupby(['day_of_week_of_death', 'current_data_year']).size().reset_index(name='counts')\n",
    "Age_group_5_df_by_y_and_day = Age_group_5.groupby(['day_of_week_of_death', 'current_data_year']).size().reset_index(name='counts')\n",
    "Age_group_6_df_by_y_and_day = Age_group_6.groupby(['day_of_week_of_death', 'current_data_year']).size().reset_index(name='counts')\n",
    "Age_group_7_df_by_y_and_day = Age_group_7.groupby(['day_of_week_of_death', 'current_data_year']).size().reset_index(name='counts')\n",
    "Age_group_8_df_by_y_and_day = Age_group_8.groupby(['day_of_week_of_death', 'current_data_year']).size().reset_index(name='counts')\n",
    "Age_group_9_df_by_y_and_day = Age_group_9.groupby(['day_of_week_of_death', 'current_data_year']).size().reset_index(name='counts')\n",
    "Age_group_10_df_by_y_and_day = Age_group_10.groupby(['day_of_week_of_death', 'current_data_year']).size().reset_index(name='counts')\n",
    "Age_group_11_df_by_y_and_day = Age_group_11.groupby(['day_of_week_of_death', 'current_data_year']).size().reset_index(name='counts')\n",
    "Age_group_12_df_by_y_and_day = Age_group_12.groupby(['day_of_week_of_death', 'current_data_year']).size().reset_index(name='counts')\n",
    "Age_group_13_df_by_y_and_day = Age_group_13.groupby(['day_of_week_of_death', 'current_data_year']).size().reset_index(name='counts')\n",
    "Age_group_14_df_by_y_and_day = Age_group_14.groupby(['day_of_week_of_death', 'current_data_year']).size().reset_index(name='counts')\n",
    "Age_group_15_df_by_y_and_day = Age_group_15.groupby(['day_of_week_of_death', 'current_data_year']).size().reset_index(name='counts')\n",
    "Age_group_16_df_by_y_and_day = Age_group_16.groupby(['day_of_week_of_death', 'current_data_year']).size().reset_index(name='counts')\n",
    "Age_group_17_df_by_y_and_day = Age_group_17.groupby(['day_of_week_of_death', 'current_data_year']).size().reset_index(name='counts')\n",
    "Age_group_18_df_by_y_and_day = Age_group_18.groupby(['day_of_week_of_death', 'current_data_year']).size().reset_index(name='counts')\n"
   ]
  },
  {
   "cell_type": "code",
   "execution_count": null,
   "metadata": {},
   "outputs": [],
   "source": [
    "#Levene test for equal variance by day within age groups\n",
    "levene_test_day_group_1 = levene_test_day_group_1 = pg.homoscedasticity(Age_group_1_df_by_y_and_day, dv='counts', group=\"day_of_week_of_death\")\n",
    "print(levene_test_day_group_1)\n",
    "levene_test_day_group_2 = levene_test_day_group_1 = pg.homoscedasticity(Age_group_2_df_by_y_and_day, dv='counts', group=\"day_of_week_of_death\")\n",
    "print(levene_test_day_group_2)\n",
    "levene_test_day_group_3 = levene_test_day_group_3 = pg.homoscedasticity(Age_group_3_df_by_y_and_day, dv='counts', group=\"day_of_week_of_death\")\n",
    "print(levene_test_day_group_3)\n",
    "levene_test_day_group_4 = levene_test_day_group_4 = pg.homoscedasticity(Age_group_4_df_by_y_and_day, dv='counts', group=\"day_of_week_of_death\")\n",
    "print(levene_test_day_group_4)\n",
    "levene_test_day_group_5 = levene_test_day_group_5 = pg.homoscedasticity(Age_group_5_df_by_y_and_day, dv='counts', group=\"day_of_week_of_death\")\n",
    "print(levene_test_day_group_5)\n",
    "levene_test_day_group_6 = levene_test_day_group_6 = pg.homoscedasticity(Age_group_6_df_by_y_and_day, dv='counts', group=\"day_of_week_of_death\")\n",
    "print(levene_test_day_group_6)\n",
    "levene_test_day_group_7 = levene_test_day_group_7 = pg.homoscedasticity(Age_group_7_df_by_y_and_day, dv='counts', group=\"day_of_week_of_death\")\n",
    "print(levene_test_day_group_7)\n",
    "levene_test_day_group_8 = levene_test_day_group_8 = pg.homoscedasticity(Age_group_8_df_by_y_and_day, dv='counts', group=\"day_of_week_of_death\")\n",
    "print(levene_test_day_group_8)\n",
    "levene_test_day_group_9 = levene_test_day_group_9 = pg.homoscedasticity(Age_group_9_df_by_y_and_day, dv='counts', group=\"day_of_week_of_death\")\n",
    "print(levene_test_day_group_9)\n",
    "levene_test_day_group_10 = levene_test_day_group_10 = pg.homoscedasticity(Age_group_10_df_by_y_and_day, dv='counts', group=\"day_of_week_of_death\")\n",
    "print(levene_test_day_group_10)\n",
    "levene_test_day_group_11 = levene_test_day_group_11 = pg.homoscedasticity(Age_group_11_df_by_y_and_day, dv='counts', group=\"day_of_week_of_death\")\n",
    "print(levene_test_day_group_11)\n",
    "levene_test_day_group_12 = levene_test_day_group_12 = pg.homoscedasticity(Age_group_12_df_by_y_and_day, dv='counts', group=\"day_of_week_of_death\")\n",
    "print(levene_test_day_group_12)\n",
    "levene_test_day_group_13 = levene_test_day_group_13 = pg.homoscedasticity(Age_group_13_df_by_y_and_day, dv='counts', group=\"day_of_week_of_death\")\n",
    "print(levene_test_day_group_13)\n",
    "levene_test_day_group_14 = levene_test_day_group_14 = pg.homoscedasticity(Age_group_14_df_by_y_and_day, dv='counts', group=\"day_of_week_of_death\")\n",
    "print(levene_test_day_group_14)\n",
    "levene_test_day_group_15 = levene_test_day_group_15 = pg.homoscedasticity(Age_group_15_df_by_y_and_day, dv='counts', group=\"day_of_week_of_death\")\n",
    "print(levene_test_day_group_15)\n",
    "levene_test_day_group_16 = levene_test_day_group_16 = pg.homoscedasticity(Age_group_16_df_by_y_and_day, dv='counts', group=\"day_of_week_of_death\")\n",
    "print(levene_test_day_group_16)\n",
    "levene_test_day_group_17 = levene_test_day_group_17 = pg.homoscedasticity(Age_group_17_df_by_y_and_day, dv='counts', group=\"day_of_week_of_death\")\n",
    "print(levene_test_day_group_17)\n",
    "levene_test_day_group_18 = levene_test_day_group_18 = pg.homoscedasticity(Age_group_18_df_by_y_and_day, dv='counts', group=\"day_of_week_of_death\")\n",
    "print(levene_test_day_group_18)\n",
    "\n",
    "#Yes, all variances are now equal, good to go with ANOVA"
   ]
  },
  {
   "cell_type": "code",
   "execution_count": null,
   "metadata": {},
   "outputs": [],
   "source": [
    "#One-way Anova with pingouin\n",
    "aov_day_group_1 = pg.anova(data = Age_group_1_df_by_y_and_day, dv='counts', between=\"day_of_week_of_death\", detailed=True)\n",
    "print(aov_day_group_1)\n",
    "aov_day_group_2 = pg.anova(data = Age_group_2_df_by_y_and_day, dv='counts', between=\"day_of_week_of_death\", detailed=True)\n",
    "print(aov_day_group_2)\n",
    "aov_day_group_3 = pg.anova(data = Age_group_3_df_by_y_and_day, dv='counts', between=\"day_of_week_of_death\", detailed=True)\n",
    "print(aov_day_group_3)\n",
    "aov_day_group_4 = pg.anova(data = Age_group_4_df_by_y_and_day, dv='counts', between=\"day_of_week_of_death\", detailed=True)\n",
    "print(aov_day_group_4)\n",
    "aov_day_group_5 = pg.anova(data = Age_group_5_df_by_y_and_day, dv='counts', between=\"day_of_week_of_death\", detailed=True)\n",
    "print(aov_day_group_5)\n",
    "aov_day_group_6 = pg.anova(data = Age_group_6_df_by_y_and_day, dv='counts', between=\"day_of_week_of_death\", detailed=True)\n",
    "print(aov_day_group_6)\n",
    "aov_day_group_7 = pg.anova(data = Age_group_7_df_by_y_and_day, dv='counts', between=\"day_of_week_of_death\", detailed=True)\n",
    "print(aov_day_group_7)\n",
    "aov_day_group_8 = pg.anova(data = Age_group_8_df_by_y_and_day, dv='counts', between=\"day_of_week_of_death\", detailed=True)\n",
    "print(aov_day_group_8)\n",
    "aov_day_group_9 = pg.anova(data = Age_group_9_df_by_y_and_day, dv='counts', between=\"day_of_week_of_death\", detailed=True)\n",
    "print(aov_day_group_9)\n",
    "aov_day_group_10 = pg.anova(data = Age_group_10_df_by_y_and_day, dv='counts', between=\"day_of_week_of_death\", detailed=True)\n",
    "print(aov_day_group_10)\n",
    "aov_day_group_11 = pg.anova(data = Age_group_11_df_by_y_and_day, dv='counts', between=\"day_of_week_of_death\", detailed=True)\n",
    "print(aov_day_group_11)\n",
    "aov_day_group_12 = pg.anova(data = Age_group_12_df_by_y_and_day, dv='counts', between=\"day_of_week_of_death\", detailed=True)\n",
    "print(aov_day_group_12)\n",
    "aov_day_group_13 = pg.anova(data = Age_group_13_df_by_y_and_day, dv='counts', between=\"day_of_week_of_death\", detailed=True)\n",
    "print(aov_day_group_13)\n",
    "aov_day_group_14 = pg.anova(data = Age_group_14_df_by_y_and_day, dv='counts', between=\"day_of_week_of_death\", detailed=True)\n",
    "print(aov_day_group_14)\n",
    "aov_day_group_15 = pg.anova(data = Age_group_15_df_by_y_and_day, dv='counts', between=\"day_of_week_of_death\", detailed=True)\n",
    "print(aov_day_group_15)\n",
    "aov_day_group_16 = pg.anova(data = Age_group_16_df_by_y_and_day, dv='counts', between=\"day_of_week_of_death\", detailed=True)\n",
    "print(aov_day_group_16)\n",
    "aov_day_group_17 = pg.anova(data = Age_group_17_df_by_y_and_day, dv='counts', between=\"day_of_week_of_death\", detailed=True)\n",
    "print(aov_day_group_17)\n",
    "aov_day_group_18 = pg.anova(data = Age_group_18_df_by_y_and_day, dv='counts', between=\"day_of_week_of_death\", detailed=True)\n",
    "print(aov_day_group_18)\n",
    "\n",
    "#All age groups but 14 (65-69) show a significant effect of day of week\n",
    "pg.print_table(aov, floatfmt='.3f')"
   ]
  },
  {
   "cell_type": "code",
   "execution_count": null,
   "metadata": {},
   "outputs": [],
   "source": [
    "# FDR-corrected post hocs with Hedges'g effect size\n",
    "#posthoc = pg.pairwise_ttests(data=df, dv='Scores', within='Time', subject='Subject',\n",
    "#                             parametric=True, padjust='fdr_bh', effsize='hedges')\n",
    "\n",
    "# Pretty printing of table\n",
    "#pg.print_table(posthoc, floatfmt='.3f')\n",
    "\n",
    "# FDR-corrected post hocs with Hedges'g effect size\n",
    "posthoc = pg.pairwise_ttests(data=total_deaths_by_age_group_y_and_day, dv='counts', within='day_of_week_of_death', subject='Age_group',\n",
    "                             parametric=True, padjust='fdr_bh', effsize='hedges')\n",
    "\n",
    "# Pretty printing of table\n",
    "pg.print_table(posthoc, floatfmt='.3f')\n",
    "\n",
    "#For complete dataset, only Monday/Thursday and Tuesday/Wednesday show no significant difference in deaths"
   ]
  },
  {
   "cell_type": "code",
   "execution_count": null,
   "metadata": {},
   "outputs": [],
   "source": [
    "# FDR-corrected post hocs with Hedges'g effect size\n",
    "#posthoc = pg.pairwise_ttests(data=df, dv='Scores', within='Time', subject='Subject',\n",
    "#                             parametric=True, padjust='fdr_bh', effsize='hedges')\n",
    "\n",
    "# Pretty printing of table\n",
    "#pg.print_table(posthoc, floatfmt='.3f')\n",
    "\n",
    "# FDR-corrected post hocs with Hedges'g effect size\n",
    "posthoc = pg.pairwise_ttests(data=total_deaths_by_age_group_y_and_day, dv='counts', within='Age_group', subject='day_of_week_of_death',\n",
    "                             parametric=True, padjust='fdr_bh', effsize='hedges')\n",
    "\n",
    "# Pretty printing of table\n",
    "pg.print_table(posthoc, floatfmt='.3f')\n",
    "#Grouped by age, all pairings were significantly different except: 4/6, 7/9, 8/12, 10/11, 17/18"
   ]
  },
  {
   "cell_type": "code",
   "execution_count": null,
   "metadata": {},
   "outputs": [],
   "source": []
  },
  {
   "cell_type": "code",
   "execution_count": null,
   "metadata": {},
   "outputs": [],
   "source": []
  },
  {
   "cell_type": "code",
   "execution_count": null,
   "metadata": {},
   "outputs": [],
   "source": []
  },
  {
   "cell_type": "code",
   "execution_count": null,
   "metadata": {},
   "outputs": [],
   "source": []
  },
  {
   "cell_type": "code",
   "execution_count": null,
   "metadata": {},
   "outputs": [],
   "source": []
  },
  {
   "cell_type": "code",
   "execution_count": null,
   "metadata": {},
   "outputs": [],
   "source": [
    "#Visual inspection suggests biggest difference between days may be Monday/Saturday, how does that look by age group?"
   ]
  },
  {
   "cell_type": "code",
   "execution_count": null,
   "metadata": {},
   "outputs": [],
   "source": [
    "#Mon = [\"Monday\"]\n",
    "\n",
    "#Sat = [\"Saturday\"]\n",
    "\n",
    "#Age_group_1_Mon = Age_group_1_df_by_y_and_day[Age_group_1_df_by_y_and_day['day_of_week_of_death'] == \"Monday\"][\"counts\"]\n",
    "\n",
    "#Age_group_1_Sat = Age_group_1_df_by_y_and_day[Age_group_1_df_by_y_and_day['day_of_week_of_death'] == \"Saturday\"][\"counts\"]"
   ]
  },
  {
   "cell_type": "code",
   "execution_count": null,
   "metadata": {},
   "outputs": [],
   "source": []
  },
  {
   "cell_type": "code",
   "execution_count": null,
   "metadata": {},
   "outputs": [],
   "source": []
  },
  {
   "cell_type": "code",
   "execution_count": null,
   "metadata": {},
   "outputs": [],
   "source": []
  },
  {
   "cell_type": "code",
   "execution_count": null,
   "metadata": {},
   "outputs": [],
   "source": []
  },
  {
   "cell_type": "code",
   "execution_count": null,
   "metadata": {},
   "outputs": [],
   "source": []
  },
  {
   "cell_type": "code",
   "execution_count": null,
   "metadata": {},
   "outputs": [],
   "source": []
  },
  {
   "cell_type": "code",
   "execution_count": null,
   "metadata": {},
   "outputs": [],
   "source": []
  },
  {
   "cell_type": "code",
   "execution_count": null,
   "metadata": {},
   "outputs": [],
   "source": [
    "finalDf_with_census"
   ]
  },
  {
   "cell_type": "code",
   "execution_count": null,
   "metadata": {},
   "outputs": [],
   "source": []
  },
  {
   "cell_type": "code",
   "execution_count": null,
   "metadata": {},
   "outputs": [],
   "source": []
  },
  {
   "cell_type": "code",
   "execution_count": null,
   "metadata": {},
   "outputs": [],
   "source": []
  },
  {
   "cell_type": "code",
   "execution_count": null,
   "metadata": {},
   "outputs": [],
   "source": []
  },
  {
   "cell_type": "code",
   "execution_count": null,
   "metadata": {},
   "outputs": [],
   "source": []
  },
  {
   "cell_type": "code",
   "execution_count": null,
   "metadata": {},
   "outputs": [],
   "source": []
  },
  {
   "cell_type": "code",
   "execution_count": null,
   "metadata": {},
   "outputs": [],
   "source": [
    "#replace({1:'0-4', 2:'5-9', 3:'10-14', 4:'15-19', 5:'20-24', 6:'25-29', 7:'30-34', 8:'35-39', 9:'40-44',10:'45-49',11:'50-54', 12:'55-59' , 13:'60-64', 14:'65-69', 15:'70-74', 16:'75-79', 17:'80-84', 18:'85 and over'})\n",
    "\n",
    "#ax = sns.catplot(x=\"day_of_week_of_death\", y=\"counts\",\n",
    "\n",
    "\n",
    "\n",
    "#Age subgroups for a closer look\n",
    "\n",
    "Age_cluster_1 = ['0-4', '5-9', '10-14']\n",
    "Age_cluster_2 = [4, 5, 6]\n",
    "Age_cluster_3 = [7, 8, 9]\n",
    "Age_cluster_4 = [10, 11, 12]\n",
    "Age_cluster_5 = [13, 14, 15]\n",
    "Age_cluster_6 = [16, 17, 18]\n",
    "\n",
    "Age_cluster_1_df = finalDf_with_census[finalDf_with_census[\"Age\"]==('0-4','5-9','10-14')]\n",
    "Age_cluster_2_df = finalDf_with_census[finalDf_with_census[\"Age_group\"].isin(Age_cluster_2)]\n",
    "Age_cluster_3_df = finalDf_with_census[finalDf_with_census[\"Age_group\"].isin(Age_cluster_3)]\n",
    "Age_cluster_4_df = finalDf_with_census[finalDf_with_census[\"Age_group\"].isin(Age_cluster_4)]\n",
    "Age_cluster_5_df = finalDf_with_census[finalDf_with_census[\"Age_group\"].isin(Age_cluster_5)]\n",
    "Age_cluster_6_df = finalDf_with_census[finalDf_with_census[\"Age_group\"].isin(Age_cluster_6)]\n",
    "\n",
    "#Age_group_1_df_by_y_and_day = Age_group_1.groupby(['day_of_week_of_death', 'current_data_year']).size().reset_index(name='counts')\n",
    "#Age_group_2_df_by_y_and_day = Age_group_2.groupby(['day_of_week_of_death', 'current_data_year']).size().reset_index(name='counts')\n",
    "\n",
    "Age_cluster_1_df_by_y_and_day = Age_cluster_1.groupby(['day_of_week_of_death', 'current_data_year']).size().reset_index(name='counts')\n",
    "Age_cluster_2_df_by_y_and_day = Age_cluster_2.groupby(['day_of_week_of_death', 'current_data_year']).size().reset_index(name='counts')\n",
    "Age_cluster_3_df_by_y_and_day = Age_cluster_3.groupby(['day_of_week_of_death', 'current_data_year']).size().reset_index(name='counts')\n",
    "Age_cluter_4_df_by_y_and_day = Age_cluster_4.groupby(['day_of_week_of_death', 'current_data_year']).size().reset_index(name='counts')\n",
    "Age_cluster_5_df_by_y_and_day = Age_cluster_5.groupby(['day_of_week_of_death', 'current_data_year']).size().reset_index(name='counts')\n",
    "Age_cluster_6_df_by_y_and_day = Age_cluster_6.groupby(['day_of_week_of_death', 'current_data_year']).size().reset_index(name='counts')\n",
    "\n",
    "Age_cluster_1_Mon = Age_cluster_1_df_by_y_and_day[Age_cluster_1_df_by_y_and_day['day_of_week_of_death'] == \"Monday\"][\"counts\"]\n",
    "Age_cluster_1_Tue = Age_cluster_1_df_by_y_and_day[Age_cluster_1_df_by_y_and_day['day_of_week_of_death'] == \"Tuesday\"][\"counts\"]\n",
    "Age_cluster_1_Wed = Age_cluster_1_df_by_y_and_day[Age_cluster_1_df_by_y_and_day['day_of_week_of_death'] == \"Wednesday\"][\"counts\"]\n",
    "Age_cluster_1_Thu = Age_cluster_1_df_by_y_and_day[Age_cluster_1_df_by_y_and_day['day_of_week_of_death'] == \"Thursday\"][\"counts\"]\n",
    "Age_cluster_1_Fri = Age_cluster_1_df_by_y_and_day[Age_cluster_1_df_by_y_and_day['day_of_week_of_death'] == \"Friday\"][\"counts\"]\n",
    "Age_cluster_1_Sat = Age_cluster_1_df_by_y_and_day[Age_cluster_1_df_by_y_and_day['day_of_week_of_death'] == \"Saturday\"][\"counts\"]\n",
    "Age_cluster_1_Sun = Age_cluster_1_df_by_y_and_day[Age_cluster_1_df_by_y_and_day['day_of_week_of_death'] == \"Sunday\"][\"counts\"]\n",
    "\n",
    "Age_cluster_2_Mon = Age_cluster_2_df_by_y_and_day[Age_cluster_2_df_by_y_and_day['day_of_week_of_death'] == \"Monday\"][\"counts\"]\n",
    "Age_cluster_2_Tue = Age_cluster_2_df_by_y_and_day[Age_cluster_2_df_by_y_and_day['day_of_week_of_death'] == \"Tuesday\"][\"counts\"]\n",
    "Age_cluster_2_Wed = Age_cluster_2_df_by_y_and_day[Age_cluster_2_df_by_y_and_day['day_of_week_of_death'] == \"Wednesday\"][\"counts\"]\n",
    "Age_cluster_2_Thu = Age_cluster_2_df_by_y_and_day[Age_cluster_2_df_by_y_and_day['day_of_week_of_death'] == \"Thursday\"][\"counts\"]\n",
    "Age_cluster_2_Fri = Age_cluster_2_df_by_y_and_day[Age_cluster_2_df_by_y_and_day['day_of_week_of_death'] == \"Friday\"][\"counts\"]\n",
    "Age_cluster_2_Sat = Age_cluster_2_df_by_y_and_day[Age_cluster_2_df_by_y_and_day['day_of_week_of_death'] == \"Saturday\"][\"counts\"]\n",
    "Age_cluster_2_Sun = Age_cluster_2_df_by_y_and_day[Age_cluster_2_df_by_y_and_day['day_of_week_of_death'] == \"Sunday\"][\"counts\"]\n",
    "\n",
    "Age_cluster_3_Mon = Age_cluster_3_df_by_y_and_day[Age_cluster_3_df_by_y_and_day['day_of_week_of_death'] == \"Monday\"][\"counts\"]\n",
    "Age_cluster_3_Tue = Age_cluster_3_df_by_y_and_day[Age_cluster_3_df_by_y_and_day['day_of_week_of_death'] == \"Tuesday\"][\"counts\"]\n",
    "Age_cluster_3_Wed = Age_cluster_3_df_by_y_and_day[Age_cluster_3_df_by_y_and_day['day_of_week_of_death'] == \"Wednesday\"][\"counts\"]\n",
    "Age_cluster_3_Thu = Age_cluster_3_df_by_y_and_day[Age_cluster_3_df_by_y_and_day['day_of_week_of_death'] == \"Thursday\"][\"counts\"]\n",
    "Age_cluster_3_Fri = Age_cluster_3_df_by_y_and_day[Age_cluster_3_df_by_y_and_day['day_of_week_of_death'] == \"Friday\"][\"counts\"]\n",
    "Age_cluster_3_Sat = Age_cluster_3_df_by_y_and_day[Age_cluster_3_df_by_y_and_day['day_of_week_of_death'] == \"Saturday\"][\"counts\"]\n",
    "Age_cluster_3_Sun = Age_cluster_3_df_by_y_and_day[Age_cluster_3_df_by_y_and_day['day_of_week_of_death'] == \"Sunday\"][\"counts\"]\n",
    "\n",
    "Age_cluster_4_Mon = Age_cluster_4_df_by_y_and_day[Age_cluster_4_df_by_y_and_day['day_of_week_of_death'] == \"Monday\"][\"counts\"]\n",
    "Age_cluster_4_Tue = Age_cluster_4_df_by_y_and_day[Age_cluster_4_df_by_y_and_day['day_of_week_of_death'] == \"Tuesday\"][\"counts\"]\n",
    "Age_cluster_4_Wed = Age_cluster_4_df_by_y_and_day[Age_cluster_4_df_by_y_and_day['day_of_week_of_death'] == \"Wednesday\"][\"counts\"]\n",
    "Age_cluster_4_Thu = Age_cluster_4_df_by_y_and_day[Age_cluster_4_df_by_y_and_day['day_of_week_of_death'] == \"Thursday\"][\"counts\"]\n",
    "Age_cluster_4_Fri = Age_cluster_4_df_by_y_and_day[Age_cluster_4_df_by_y_and_day['day_of_week_of_death'] == \"Friday\"][\"counts\"]\n",
    "Age_cluster_4_Sat = Age_cluster_4_df_by_y_and_day[Age_cluster_4_df_by_y_and_day['day_of_week_of_death'] == \"Saturday\"][\"counts\"]\n",
    "Age_cluster_4_Sun = Age_cluster_4_df_by_y_and_day[Age_cluster_4_df_by_y_and_day['day_of_week_of_death'] == \"Sunday\"][\"counts\"]\n",
    "\n",
    "Age_cluster_5_Mon = Age_cluster_5_df_by_y_and_day[Age_cluster_5_df_by_y_and_day['day_of_week_of_death'] == \"Monday\"][\"counts\"]\n",
    "Age_cluster_5_Tue = Age_cluster_5_df_by_y_and_day[Age_cluster_5_df_by_y_and_day['day_of_week_of_death'] == \"Tuesday\"][\"counts\"]\n",
    "Age_cluster_5_Wed = Age_cluster_5_df_by_y_and_day[Age_cluster_5_df_by_y_and_day['day_of_week_of_death'] == \"Wednesday\"][\"counts\"]\n",
    "Age_cluster_5_Thu = Age_cluster_5_df_by_y_and_day[Age_cluster_5_df_by_y_and_day['day_of_week_of_death'] == \"Thursday\"][\"counts\"]\n",
    "Age_cluster_5_Fri = Age_cluster_5_df_by_y_and_day[Age_cluster_5_df_by_y_and_day['day_of_week_of_death'] == \"Friday\"][\"counts\"]\n",
    "Age_cluster_5_Sat = Age_cluster_5_df_by_y_and_day[Age_cluster_5_df_by_y_and_day['day_of_week_of_death'] == \"Saturday\"][\"counts\"]\n",
    "Age_cluster_5_Sun = Age_cluster_5_df_by_y_and_day[Age_cluster_5_df_by_y_and_day['day_of_week_of_death'] == \"Sunday\"][\"counts\"]\n",
    "\n",
    "Age_cluster_6_Mon = Age_cluster_6_df_by_y_and_day[Age_cluster_6_df_by_y_and_day['day_of_week_of_death'] == \"Monday\"][\"counts\"]\n",
    "Age_cluster_6_Tue = Age_cluster_6_df_by_y_and_day[Age_cluster_6_df_by_y_and_day['day_of_week_of_death'] == \"Tuesday\"][\"counts\"]\n",
    "Age_cluster_6_Wed = Age_cluster_6_df_by_y_and_day[Age_cluster_6_df_by_y_and_day['day_of_week_of_death'] == \"Wednesday\"][\"counts\"]\n",
    "Age_cluster_6_Thu = Age_cluster_6_df_by_y_and_day[Age_cluster_6_df_by_y_and_day['day_of_week_of_death'] == \"Thursday\"][\"counts\"]\n",
    "Age_cluster_6_Fri = Age_cluster_6_df_by_y_and_day[Age_cluster_6_df_by_y_and_day['day_of_week_of_death'] == \"Friday\"][\"counts\"]\n",
    "Age_cluster_6_Sat = Age_cluster_6_df_by_y_and_day[Age_cluster_6_df_by_y_and_day['day_of_week_of_death'] == \"Saturday\"][\"counts\"]\n",
    "Age_cluster_6_Sun = Age_cluster_6_df_by_y_and_day[Age_cluster_6_df_by_y_and_day['day_of_week_of_death'] == \"Sunday\"][\"counts\"]\n",
    "\n",
    "stat, p_acluster1 = levene(Age_cluster_1_Mon, Age_cluster_1_Tue, Age_cluster_1_Wed, Age_cluster_1_Thu, Age_cluster_1_Fri, Age_cluster_1_Sat, Age_cluster_1_Sun)\n",
    "print(f'Age_group_1 Levene test p-value {p_acluster1}')\n",
    "if p_acluster1<0.05:\n",
    "    print(f'   p < 0.05, sample variances too dissimilar for ANOVA')\n",
    "else:\n",
    "    print(f'   p >= 0.05, sample variances similar enough for ANOVA')\n",
    "stat, p_acluster2 = levene(Age_cluster_2_Mon, Age_cluster_2_Tue, Age_cluster_2_Wed, Age_cluster_2_Thu, Age_cluster_2_Fri, Age_cluster_2_Sat, Age_cluster_2_Sun)\n",
    "print(f'Age_group_2 Levene test p-value {p_acluster2}')\n",
    "if p_acluster2<0.05:\n",
    "    print(f'   p < 0.05, sample variances too dissimilar for ANOVA')\n",
    "else:\n",
    "    print(f'   p >= 0.05, sample variances similar enough for ANOVA')\n",
    "stat, p_acluster3 = levene(Age_cluster_3_Mon, Age_cluster_3_Tue, Age_cluster_3_Wed, Age_cluster_3_Thu, Age_cluster_3_Fri, Age_cluster_3_Sat, Age_cluster_3_Sun)\n",
    "print(f'Age_group_3 Levene test p-value {p_acluster3}')\n",
    "if p_acluster3<0.05:\n",
    "    print(f'   p < 0.05, sample variances too dissimilar for ANOVA')\n",
    "else:\n",
    "    print(f'   p >= 0.05, sample variances similar enough for ANOVA')\n",
    "stat, p_acluster4 = levene(Age_cluster_4_Mon, Age_cluster_4_Tue, Age_cluster_4_Wed, Age_cluster_4_Thu, Age_cluster_4_Fri, Age_cluster_4_Sat, Age_cluster_4_Sun)\n",
    "print(f'Age_group_4 Levene test p-value {p_acluster4}')\n",
    "if p_acluster4<0.05:\n",
    "    print(f'   p < 0.05, sample variances too dissimilar for ANOVA')\n",
    "else:\n",
    "    print(f'   p >= 0.05, sample variances similar enough for ANOVA')\n",
    "stat, p_acluster5 = levene(Age_cluster_5_Mon, Age_cluster_5_Tue, Age_cluster_5_Wed, Age_cluster_5_Thu, Age_cluster_5_Fri, Age_cluster_5_Sat, Age_cluster_5_Sun)\n",
    "print(f'Age_group_5 Levene test p-value {p_acluster5}')\n",
    "if p_acluster5<0.05:\n",
    "    print(f'   p < 0.05, sample variances too dissimilar for ANOVA')\n",
    "else:\n",
    "    print(f'   p >= 0.05, sample variances similar enough for ANOVA')\n",
    "stat, p_acluster6 = levene(Age_cluster_6_Mon, Age_cluster_6_Tue, Age_cluster_6_Wed, Age_cluster_6_Thu, Age_cluster_6_Fri, Age_cluster_6_Sat, Age_cluster_6_Sun)\n",
    "print(f'Age_group_6 Levene test p-value {p_acluster6}')\n",
    "if p_acluster6<0.05:\n",
    "    print(f'   p < 0.05, sample variances too dissimilar for ANOVA')\n"
   ]
  },
  {
   "cell_type": "code",
   "execution_count": null,
   "metadata": {},
   "outputs": [],
   "source": [
    "#Perform Bartlett’s test for equal variances - allows different lengths according to some documentation, \n",
    "#but other documentation seems to disagree...\n",
    "#Bartlett’s test tests the null hypothesis that all input samples are from populations with equal variances. \n",
    "#For samples from significantly non-normal populations, Levene’s test levene is more robust.\n",
    "#Parameters\n",
    "#sample1, sample2,…array_like\n",
    "#arrays of sample data. Only 1d arrays are accepted, they may have different lengths? But error message says not... at least\n",
    "#some people in github seem to agree.... (shown here, commented out)\n",
    "\n",
    "#MonTue = [\"Monday\", \"Tuesday\"]\n",
    "#SatSun = [\"Saturday\", \"Sunday\"]\n",
    "\n",
    "#agroup1_MonTue = agroup1_df_by_y_and_day[agroup1_df_by_y_and_day['day_of_week_of_death'] == MonTue][\"counts\"]\n",
    "#agroup1_SatSun = agroup1_df_by_y_and_day[agroup1_df_by_y_and_day['day_of_week_of_death'] == SatSun][\"counts\"]\n",
    "\n",
    "#agroup1_MonTue = agroup1_df_by_y_and_day[agroup1_df_by_y_and_day['day_of_week_of_death'] == (\"Monday\", \"Tuesday\")][\"counts\"]\n",
    "#agroup1_SatSun = agroup1_df_by_y_and_day[agroup1_df_by_y_and_day['day_of_week_of_death'] == (\"Saturday\", \"Sunday\")][\"counts\"]\n",
    "\n",
    "\n",
    "\n",
    "#stat, p_agroup1_MonTue_SatSun = bartlett(agroup1_MonTue, agroup1_SatSun)\n",
    "\n"
   ]
  },
  {
   "cell_type": "markdown",
   "metadata": {},
   "source": [
    "#Okay, MondayTuesday vs. SatSun\n",
    "\n",
    "#Levene's test for equal variance\n",
    "#https://docs.scipy.org/doc/scipy/reference/generated/scipy.stats.levene.html\n",
    "#Apparently can't be done for groups of different lengths\n",
    "#Mon = [\"Monday\"]\n",
    "#Sat = [\"Saturday\"]\n",
    "\n",
    "#Age_group_1_Mon = Age_group_1_df_by_y_and_day[Age_group_1_df_by_y_and_day['day_of_week_of_death'] == \"Monday\"][\"counts\"]\n",
    "#Age_group_1_Sat = Age_group_1_df_by_y_and_day[Age_group_1_df_by_y_and_day['day_of_week_of_death'] == \"Saturday\"][\"counts\"]\n",
    "#Age_group_2_Mon = Age_group_2_df_by_y_and_day[Age_group_2_df_by_y_and_day['day_of_week_of_death'] == \"Monday\"][\"counts\"]\n",
    "#Age_group_2_Sat = Age_group_2_df_by_y_and_day[Age_group_2_df_by_y_and_day['day_of_week_of_death'] == \"Saturday\"][\"counts\"]\n",
    "#Age_group_3_Mon = Age_group_3_df_by_y_and_day[Age_group_3_df_by_y_and_day['day_of_week_of_death'] == \"Monday\"][\"counts\"]\n",
    "#Age_group_3_Sat = Age_group_3_df_by_y_and_day[Age_group_3_df_by_y_and_day['day_of_week_of_death'] == \"Saturday\"][\"counts\"]\n",
    "#Age_group_4_Mon = Age_group_4_df_by_y_and_day[Age_group_4_df_by_y_and_day['day_of_week_of_death'] == \"Monday\"][\"counts\"]\n",
    "#Age_group_4_Sat = Age_group_4_df_by_y_and_day[Age_group_4_df_by_y_and_day['day_of_week_of_death'] == \"Saturday\"][\"counts\"]\n",
    "#Age_group_5_Mon = Age_group_5_df_by_y_and_day[Age_group_5_df_by_y_and_day['day_of_week_of_death'] == \"Monday\"][\"counts\"]\n",
    "#Age_group_5_Sat = Age_group_5_df_by_y_and_day[Age_group_5_df_by_y_and_day['day_of_week_of_death'] == \"Saturday\"][\"counts\"]\n",
    "#Age_group_6_Mon = Age_group_6_df_by_y_and_day[Age_group_6_df_by_y_and_day['day_of_week_of_death'] == \"Monday\"][\"counts\"]\n",
    "#Age_group_6_Sat = Age_group_6_df_by_y_and_day[Age_group_6_df_by_y_and_day['day_of_week_of_death'] == \"Saturday\"][\"counts\"]\n",
    "#Age_group_7_Mon = Age_group_7_df_by_y_and_day[Age_group_7_df_by_y_and_day['day_of_week_of_death'] == \"Monday\"][\"counts\"]\n",
    "#Age_group_7_Sat = Age_group_7_df_by_y_and_day[Age_group_7_df_by_y_and_day['day_of_week_of_death'] == \"Saturday\"][\"counts\"]\n",
    "#Age_group_8_Mon = Age_group_8_df_by_y_and_day[Age_group_8_df_by_y_and_day['day_of_week_of_death'] == \"Monday\"][\"counts\"]\n",
    "#Age_group_8_Sat = Age_group_8_df_by_y_and_day[Age_group_8_df_by_y_and_day['day_of_week_of_death'] == \"Saturday\"][\"counts\"]\n",
    "#Age_group_9_Mon = Age_group_9_df_by_y_and_day[Age_group_9_df_by_y_and_day['day_of_week_of_death'] == \"Monday\"][\"counts\"]\n",
    "#Age_group_9_Sat = Age_group_9_df_by_y_and_day[Age_group_9_df_by_y_and_day['day_of_week_of_death'] == \"Saturday\"][\"counts\"]\n",
    "#Age_group_10_Mon = Age_group_10_df_by_y_and_day[Age_group_10_df_by_y_and_day['day_of_week_of_death'] == \"Monday\"][\"counts\"]\n",
    "#Age_group_10_Sat = Age_group_10_df_by_y_and_day[Age_group_10_df_by_y_and_day['day_of_week_of_death'] == \"Saturday\"][\"counts\"]\n",
    "#Age_group_11_Mon = Age_group_11_df_by_y_and_day[Age_group_11_df_by_y_and_day['day_of_week_of_death'] == \"Monday\"][\"counts\"]\n",
    "Age_group_11_Sat = Age_group_11_df_by_y_and_day[Age_group_11_df_by_y_and_day['day_of_week_of_death'] == \"Saturday\"][\"counts\"]\n",
    "Age_group_12_Mon = Age_group_12_df_by_y_and_day[Age_group_12_df_by_y_and_day['day_of_week_of_death'] == \"Monday\"][\"counts\"]\n",
    "Age_group_12_Sat = Age_group_12_df_by_y_and_day[Age_group_12_df_by_y_and_day['day_of_week_of_death'] == \"Saturday\"][\"counts\"]\n",
    "Age_group_13_Mon = Age_group_13_df_by_y_and_day[Age_group_13_df_by_y_and_day['day_of_week_of_death'] == \"Monday\"][\"counts\"]\n",
    "Age_group_13_Sat = Age_group_13_df_by_y_and_day[Age_group_13_df_by_y_and_day['day_of_week_of_death'] == \"Saturday\"][\"counts\"]\n",
    "Age_group_14_Mon = Age_group_14_df_by_y_and_day[Age_group_14_df_by_y_and_day['day_of_week_of_death'] == \"Monday\"][\"counts\"]\n",
    "Age_group_14_Sat = Age_group_14_df_by_y_and_day[Age_group_14_df_by_y_and_day['day_of_week_of_death'] == \"Saturday\"][\"counts\"]\n",
    "Age_group_15_Mon = Age_group_15_df_by_y_and_day[Age_group_15_df_by_y_and_day['day_of_week_of_death'] == \"Monday\"][\"counts\"]\n",
    "Age_group_15_Sat = Age_group_15_df_by_y_and_day[Age_group_15_df_by_y_and_day['day_of_week_of_death'] == \"Saturday\"][\"counts\"]\n",
    "Age_group_16_Mon = Age_group_16_df_by_y_and_day[Age_group_16_df_by_y_and_day['day_of_week_of_death'] == \"Monday\"][\"counts\"]\n",
    "Age_group_16_Sat = Age_group_16_df_by_y_and_day[Age_group_16_df_by_y_and_day['day_of_week_of_death'] == \"Saturday\"][\"counts\"]\n",
    "Age_group_17_Mon = Age_group_17_df_by_y_and_day[Age_group_17_df_by_y_and_day['day_of_week_of_death'] == \"Monday\"][\"counts\"]\n",
    "Age_group_17_Sat = Age_group_17_df_by_y_and_day[Age_group_17_df_by_y_and_day['day_of_week_of_death'] == \"Saturday\"][\"counts\"]\n",
    "Age_group_18_Mon = Age_group_18_df_by_y_and_day[Age_group_18_df_by_y_and_day['day_of_week_of_death'] == \"Monday\"][\"counts\"]\n",
    "Age_group_18_Sat = Age_group_18_df_by_y_and_day[Age_group_18_df_by_y_and_day['day_of_week_of_death'] == \"Saturday\"][\"counts\"]\n",
    "\n",
    "\n",
    "stat, p_agroup1_Mon_Sat = levene(Age_group_1_Mon, Age_group_1_Sat)\n",
    "print(f'p_agroup1_Mon_Sat Levene test p-value {p_agroup1}')\n",
    "if p_agroup1<0.05:\n",
    "    print(f'   p < 0.05, sample variances too dissimilar for ANOVA')\n",
    "else:\n",
    "    print(f'   p >= 0.05, sample variances similar enough for ANOVA')\n",
    "\n",
    "stat, p_agroup2_Mon_Sat = levene(Age_group_2_Mon, Age_group_2_Sat)\n",
    "print(f'p_agroup2_Mon_Sat Levene test p-value {p_agroup2}')\n",
    "if p_agroup2<0.05:\n",
    "    print(f'   p < 0.05, sample variances too dissimilar for ANOVA')\n",
    "else:\n",
    "    print(f'   p >= 0.05, sample variances similar enough for ANOVA')\n",
    "\n",
    "stat, p_agroup3_Mon_Sat = levene(Age_group_3_Mon, Age_group_3_Sat)\n",
    "print(f'p_agroup3_Mon_Sat Levene test p-value {p_agroup3}')\n",
    "if p_agroup3<0.05:\n",
    "    print(f'   p < 0.05, sample variances too dissimilar for ANOVA')\n",
    "else:\n",
    "    print(f'   p >= 0.05, sample variances similar enough for ANOVA')\n",
    "\n",
    "stat, p_agroup4_Mon_Sat = levene(Age_group_4_Mon, Age_group_4_Sat)\n",
    "print(f'p_agroup4_Mon_Sat Levene test p-value {p_agroup4}')\n",
    "if p_agroup4<0.05:\n",
    "    print(f'   p < 0.05, sample variances too dissimilar for ANOVA')\n",
    "else:\n",
    "    print(f'   p >= 0.05, sample variances similar enough for ANOVA')\n",
    "\n",
    "stat, p_agroup5_Mon_Sat = levene(Age_group_5_Mon, Age_group_5_Sat)\n",
    "print(f'p_agroup5_Mon_Sat Levene test p-value {p_agroup5}')\n",
    "if p_agroup5<0.05:\n",
    "    print(f'   p < 0.05, sample variances too dissimilar for ANOVA')\n",
    "else:\n",
    "    print(f'   p >= 0.05, sample variances similar enough for ANOVA')\n",
    "\n",
    "stat, p_agroup6_Mon_Sat = levene(Age_group_6_Mon, Age_group_6_Sat)\n",
    "print(f'p_agroup6_Mon_Sat Levene test p-value {p_agroup6}')\n",
    "if p_agroup6<0.05:\n",
    "    print(f'   p < 0.05, sample variances too dissimilar for ANOVA')\n",
    "else:\n",
    "    print(f'   p >= 0.05, sample variances similar enough for ANOVA')\n",
    "\n",
    "stat, p_agroup7_Mon_Sat = levene(Age_group_7_Mon, Age_group_7_Sat)\n",
    "print(f'p_agroup7_Mon_Sat Levene test p-value {p_agroup7}')\n",
    "if p_agroup7<0.05:\n",
    "    print(f'   p < 0.05, sample variances too dissimilar for ANOVA')\n",
    "else:\n",
    "    print(f'   p >= 0.05, sample variances similar enough for ANOVA')\n",
    "\n",
    "stat, p_agroup8_Mon_Sat = levene(Age_group_8_Mon, Age_group_8_Sat)\n",
    "print(f'p_agroup8_Mon_Sat Levene test p-value {p_agroup8}')\n",
    "if p_agroup8<0.05:\n",
    "    print(f'   p < 0.05, sample variances too dissimilar for ANOVA')\n",
    "else:\n",
    "    print(f'   p >= 0.05, sample variances similar enough for ANOVA')\n",
    "\n",
    "stat, p_agroup9_Mon_Sat = levene(Age_group_9_Mon, Age_group_9_Sat)\n",
    "print(f'p_agroup9_Mon_Sat Levene test p-value {p_agroup9}')\n",
    "if p_agroup9<0.05:\n",
    "    print(f'   p < 0.05, sample variances too dissimilar for ANOVA')\n",
    "else:\n",
    "    print(f'   p >= 0.05, sample variances similar enough for ANOVA')\n",
    "    \n",
    "stat, p_agroup10_Mon_Sat = levene(Age_group_10_Mon, Age_group_10_Sat)\n",
    "print(f'p_agroup10_Mon_Sat Levene test p-value {p_agroup10}')\n",
    "if p_agroup10<0.05:\n",
    "    print(f'   p < 0.05, sample variances too dissimilar for ANOVA')\n",
    "else:\n",
    "    print(f'   p >= 0.05, sample variances similar enough for ANOVA')    \n",
    "    \n",
    "stat, p_agroup11_Mon_Sat = levene(Age_group_11_Mon, Age_group_11_Sat)\n",
    "print(f'p_agroup11_Mon_Sat Levene test p-value {p_agroup11}')\n",
    "if p_agroup11<0.05:\n",
    "    print(f'   p < 0.05, sample variances too dissimilar for ANOVA')\n",
    "else:\n",
    "    print(f'   p >= 0.05, sample variances similar enough for ANOVA')    \n",
    "    \n",
    "stat, p_agroup12_Mon_Sat = levene(Age_group_12_Mon, Age_group_12_Sat)\n",
    "print(f'p_agroup12_Mon_Sat Levene test p-value {p_agroup12}')\n",
    "if p_agroup12<0.05:\n",
    "    print(f'   p < 0.05, sample variances too dissimilar for ANOVA')\n",
    "else:\n",
    "    print(f'   p >= 0.05, sample variances similar enough for ANOVA')    \n",
    "    \n",
    "stat, p_agroup13_Mon_Sat = levene(Age_group_13_Mon, Age_group_13_Sat)\n",
    "print(f'p_agroup13_Mon_Sat Levene test p-value {p_agroup13}')\n",
    "if p_agroup13<0.05:\n",
    "    print(f'   p < 0.05, sample variances too dissimilar for ANOVA')\n",
    "else:\n",
    "    print(f'   p >= 0.05, sample variances similar enough for ANOVA')    \n",
    "    \n",
    "stat, p_agroup14_Mon_Sat = levene(Age_group_14_Mon, Age_group_14_Sat)\n",
    "print(f'p_agroup14_Mon_Sat Levene test p-value {p_agroup14}')\n",
    "if p_agroup14<0.05:\n",
    "    print(f'   p < 0.05, sample variances too dissimilar for ANOVA')\n",
    "else:\n",
    "    print(f'   p >= 0.05, sample variances similar enough for ANOVA')    \n",
    "    \n",
    "stat, p_agroup15_Mon_Sat = levene(Age_group_15_Mon, Age_group_15_Sat)\n",
    "print(f'p_agroup15_Mon_Sat Levene test p-value {p_agroup15}')\n",
    "if p_agroup15<0.05:\n",
    "    print(f'   p < 0.05, sample variances too dissimilar for ANOVA')\n",
    "else:\n",
    "    print(f'   p >= 0.05, sample variances similar enough for ANOVA')    \n",
    "    \n",
    "stat, p_agroup16_Mon_Sat = levene(Age_group_16_Mon, Age_group_16_Sat)\n",
    "print(f'p_agroup16_Mon_Sat Levene test p-value {p_agroup16}')\n",
    "if p_agroup16<0.05:\n",
    "    print(f'   p < 0.05, sample variances too dissimilar for ANOVA')\n",
    "else:\n",
    "    print(f'   p >= 0.05, sample variances similar enough for ANOVA')    \n",
    "    \n",
    "stat, p_agroup17_Mon_Sat = levene(Age_group_17_Mon, Age_group_17_Sat)\n",
    "print(f'p_agroup17_Mon_Sat Levene test p-value {p_agroup17}')\n",
    "if p_agroup17<0.05:\n",
    "    print(f'   p < 0.05, sample variances too dissimilar for ANOVA')\n",
    "else:\n",
    "    print(f'   p >= 0.05, sample variances similar enough for ANOVA')    \n",
    "    \n",
    "stat, p_agroup18_Mon_Sat = levene(Age_group_18_Mon, Age_group_18_Sat)\n",
    "print(f'p_agroup18_Mon_Sat Levene test p-value {p_agroup18}')\n",
    "if p_agroup18<0.05:\n",
    "    print(f'   p < 0.05, sample variances too dissimilar for ANOVA')\n",
    "else:\n",
    "    print(f'   p >= 0.05, sample variances similar enough for ANOVA')    \n"
   ]
  },
  {
   "cell_type": "code",
   "execution_count": null,
   "metadata": {},
   "outputs": [],
   "source": []
  },
  {
   "cell_type": "code",
   "execution_count": null,
   "metadata": {},
   "outputs": [],
   "source": []
  },
  {
   "cell_type": "code",
   "execution_count": null,
   "metadata": {},
   "outputs": [],
   "source": [
    "#order=['Sunday', 'Monday', 'Tuesday' ,'Wednesday','Thursday' ,'Friday', 'Saturday']\n",
    "#cut_bins = [0,15,20, 25, 30, 35, 40, 45, 50, 55, 60, 65, 70, 75, 80, 85, 90, 95, 100, 105, 110]\n",
    "#finalDf['cut_age'] = pd.cut(finalDf['detail_age'], bins=cut_bins) #labels=cut_labels_4)\n",
    "#ax = sns.countplot(hue=\"day_of_week_of_death\", x=\"Age_group\", data=finalDf_with_census)\n",
    "#ax.legend(bbox_to_anchor=(1, 1), loc=2,borderaxespad=0.)\n",
    "#ax.set_title(\"Total Motor Vehicle Deaths by Age Group and Day of Week (2005-2015)\",  y=1.05, fontsize=48)\n",
    "#plt.xticks([0, 1, 2, 3, 4, 5, 6, 7, 8, 9, 10, 11, 12, 13, 14, 15, 16, 17], \n",
    "#           ['0-4', '5-9', '10-14','15-19','20-24','25-29','30-34','35-39','40-44',\n",
    "#            '45-49','50-54','55-59','60-64','65-69','70-74','75-79','80-84','85 and over'])\n",
    "#ax.set_xticklabels(ax.get_xticklabels(), rotation=45, horizontalalignment='center')\n",
    "#ax.set(xlabel='Age Group', ylabel='Deaths')\n",
    "#fig = plt.gcf()\n",
    "#fig.set_size_inches( 36, 12.5)\n",
    "#sns.set(font_scale=4)\n",
    "#plt.subplots_adjust(top=0.92)\n",
    "#plt.savefig('Deaths_by_age_group_and_day_of_week_barplot.pdf')"
   ]
  },
  {
   "cell_type": "code",
   "execution_count": null,
   "metadata": {},
   "outputs": [],
   "source": [
    "total_deaths_by_Age_group_and_weekday = finalDf.groupby(['Age_group', 'day_of_week_of_death']).size().reset_index(name='total_deaths').dropna()\n",
    "#total_deaths_by_Age_group_and_weekday.dtypes\n",
    "total_deaths_by_Age_group_and_weekday"
   ]
  },
  {
   "cell_type": "code",
   "execution_count": null,
   "metadata": {},
   "outputs": [],
   "source": [
    "anova = ols('detail_age ~ day_of_week_of_death', data=finalDf_with_census).fit()\n",
    "table = sm.stats.anova_lm(anova, typ=2)\n",
    "table"
   ]
  },
  {
   "cell_type": "code",
   "execution_count": null,
   "metadata": {},
   "outputs": [],
   "source": [
    "anova = ols('Age_group ~ day_of_week_of_death', data=finalDf_with_census).fit()\n",
    "table = sm.stats.anova_lm(anova, typ=2)\n",
    "table"
   ]
  },
  {
   "cell_type": "code",
   "execution_count": null,
   "metadata": {},
   "outputs": [],
   "source": []
  },
  {
   "cell_type": "code",
   "execution_count": null,
   "metadata": {},
   "outputs": [],
   "source": []
  },
  {
   "cell_type": "code",
   "execution_count": null,
   "metadata": {},
   "outputs": [],
   "source": [
    "#paths = !type -a python\n",
    "#for path in set(paths):\n",
    "#    path = path.split()[-1]\n",
    "#    print(path)\n",
    "#    !{path} -c \"import sys; print(sys.path)\"\n",
    "#    print()"
   ]
  },
  {
   "cell_type": "code",
   "execution_count": null,
   "metadata": {},
   "outputs": [],
   "source": []
  },
  {
   "cell_type": "code",
   "execution_count": null,
   "metadata": {},
   "outputs": [],
   "source": []
  },
  {
   "cell_type": "code",
   "execution_count": null,
   "metadata": {},
   "outputs": [],
   "source": []
  },
  {
   "cell_type": "code",
   "execution_count": null,
   "metadata": {},
   "outputs": [],
   "source": []
  },
  {
   "cell_type": "code",
   "execution_count": null,
   "metadata": {},
   "outputs": [],
   "source": [
    "#order=['Sunday', 'Monday', 'Tuesday' ,'Wednesday','Thursday' ,'Friday', 'Saturday']\n",
    "#cut_bins = [0,15,20, 25, 30, 35, 40, 45, 50, 55, 60, 65, 70, 75, 80, 85, 90, 95, 100, 105, 110]\n",
    "#finalDf['cut_age'] = pd.cut(finalDf['detail_age'], bins=cut_bins) #labels=cut_labels_4)\n",
    "ax = sns.countplot(hue=\"current_data_year\", x=\"Age_group\", data=finalDf)\n",
    "ax.legend(bbox_to_anchor=(1.05, 1), loc=2,borderaxespad=0.)\n",
    "ax.set_title(\"Total Motor Vehicle Deaths by Age Group and Year (2005-2015)\", y=1.05)\n",
    "plt.xticks([0, 1, 2, 3, 4, 5, 6, 7, 8, 9, 10, 11, 12, 13, 14, 15, 16, 17], \n",
    "           ['0-4', '5-9', '10-14','15-19','20-24','25-29','30-34','35-39','40-44',\n",
    "            '45-49','50-54','55-59','60-64','65-69','70-74','75-79','80-84','85 and over'])\n",
    "sns.set(font_scale=1) \n",
    "ax.set_xticklabels(ax.get_xticklabels(), rotation=45, horizontalalignment='center')\n",
    "ax.set(xlabel='Age Group', ylabel='Deaths')"
   ]
  },
  {
   "cell_type": "code",
   "execution_count": null,
   "metadata": {},
   "outputs": [],
   "source": []
  },
  {
   "cell_type": "code",
   "execution_count": null,
   "metadata": {},
   "outputs": [],
   "source": [
    "ax = sns.boxplot(x = 'Age_group', y = 'Both_sexes', data = census_summary_df)\n",
    "ax.set_title(\"US Population by Age Group (2010-2019): Both sexes\", y=1.05)\n",
    "plt.xticks([0, 1, 2, 3, 4, 5, 6, 7, 8, 9, 10, 11, 12, 13, 14, 15, 16, 17], \n",
    "           ['0-4', '5-9', '10-14','15-19','20-24','25-29','30-34','35-39','40-44',\n",
    "            '45-49','50-54','55-59','60-64','65-69','70-74','75-79','80-84','85 and over'])\n",
    "ax.set_xticklabels(ax.get_xticklabels(), rotation=45, horizontalalignment='center')\n",
    "ax.set(xlabel='Age Group', ylabel='Population')\n",
    "ax.set(ylim=(0, 2.4e7))\n",
    "plt.subplots_adjust(bottom=0.28)\n",
    "sns.set(font_scale=1) \n",
    "plt.savefig('US_pop_by_age_group.pdf')"
   ]
  },
  {
   "cell_type": "code",
   "execution_count": null,
   "metadata": {},
   "outputs": [],
   "source": [
    "ax = sns.boxplot(x = 'Age_group', y = 'Male', data = finalDf_with_census)\n",
    "ax.set_title(\"US Population by Age Group (2010-2019): Males\", y=1.05)\n",
    "plt.xticks([0, 1, 2, 3, 4, 5, 6, 7, 8, 9, 10, 11, 12, 13, 14, 15, 16, 17], \n",
    "           ['0-4', '5-9', '10-14','15-19','20-24','25-29','30-34','35-39','40-44',\n",
    "            '45-49','50-54','55-59','60-64','65-69','70-74','75-79','80-84','85 and over'])\n",
    "ax.set_xticklabels(ax.get_xticklabels(), rotation=45, horizontalalignment='center')\n",
    "ax.set(xlabel='Age Group', ylabel='Population')\n",
    "sns.set(font_scale=1) \n",
    "ax.set(ylim=(0, 1.2e7))"
   ]
  },
  {
   "cell_type": "code",
   "execution_count": null,
   "metadata": {
    "scrolled": true
   },
   "outputs": [],
   "source": [
    "ax = sns.boxplot(x = 'Age_group', y = 'Female', data = finalDf_with_census)\n",
    "ax.set_title(\"US Population by Age Group (2010-2019): Females\",  y=1.05)\n",
    "plt.xticks([0, 1, 2, 3, 4, 5, 6, 7, 8, 9, 10, 11, 12, 13, 14, 15, 16, 17], \n",
    "           ['0-4', '5-9', '10-14','15-19','20-24','25-29','30-34','35-39','40-44',\n",
    "            '45-49','50-54','55-59','60-64','65-69','70-74','75-79','80-84','85 and over'])\n",
    "ax.set_xticklabels(ax.get_xticklabels(), rotation=45, horizontalalignment='center')\n",
    "ax.set(xlabel='Age Group', ylabel='Population')\n",
    "sns.set(font_scale=1) \n",
    "ax.set(ylim=(0, 1.2e7))"
   ]
  },
  {
   "cell_type": "code",
   "execution_count": null,
   "metadata": {},
   "outputs": [],
   "source": [
    "finalDf_with_census"
   ]
  },
  {
   "cell_type": "code",
   "execution_count": null,
   "metadata": {},
   "outputs": [],
   "source": [
    "#Scatterplot of population vs. motor vehicle deaths, colored by age group\n",
    "#https://stackoverflow.com/questions/17679089/pandas-dataframe-groupby-two-columns-and-get-counts\n",
    "finalDf_with_census['COUNTER'] =1 \n",
    "grouped = finalDf_with_census.groupby(['Age_group', 'current_data_year'])['COUNTER'].sum().reset_index(name ='total_accidents')\n",
    "census_short_summary_df = pd.read_csv(\"nc-est2019-agesex_rearranged.csv\")\n",
    "census_short_summary_df.rename(columns={'Age group':'Age_group'}, inplace=True)\n",
    "census_short_summary_df.rename(columns={'Year':'current_data_year'}, inplace=True)\n",
    "census_short_summary_df.rename(columns={'Both sexes':'Both_sexes'}, inplace=True)\n",
    "census_vs_total_accidents_df = pd.merge(grouped, census_short_summary_df)\n",
    "census_vs_total_accidents_df"
   ]
  },
  {
   "cell_type": "code",
   "execution_count": null,
   "metadata": {},
   "outputs": [],
   "source": [
    "#Function for plotting linear regression :)\n",
    "\n",
    "def plt_lin_reg(x_values, regress_values, line_eq, rvalue):\n",
    "    plt.plot(x_values,regress_values,\"k-\")\n",
    "    plt.text(0.2, 0.8, line_eq, fontsize=12, transform=plt.gcf().transFigure)\n",
    "    r2 = (rvalue**2).round(decimals=2)\n",
    "    r2_text = (f\"r^2 = {r2}\")\n",
    "    plt.text(0.2, 0.75, r2_text, fontsize=12, transform=plt.gcf().transFigure)\n"
   ]
  },
  {
   "cell_type": "code",
   "execution_count": null,
   "metadata": {},
   "outputs": [],
   "source": [
    "#Motor vehicle deaths vs. population size by age group\n",
    "\n",
    "#sns.palplot(sns.color_palette(\"muted\"))\n",
    "ax = sns.scatterplot(x='Both_sexes', y='total_accidents', hue='Age_group', palette=(\"muted\"), data=census_vs_total_accidents_df)\n",
    "ax.legend(bbox_to_anchor=(1.05, 1), loc=2,borderaxespad=0.)\n",
    "new_labels = ['_', '0-4', '5-9', '10-14','15-19','20-24','25-29','30-34','35-39','40-44','45-49','50-54','55-59','60-64','65-69','70-74','75-79','80-84','85 and over']\n",
    "for t, l in zip(ax.legend_.texts, new_labels): t.set_text(l)\n",
    "ax.set(xlabel='Population', ylabel='Motor vehicle deaths')\n",
    "ax.set_title('Motor Vehicle Deaths vs. Population by Age Group (2010-2015)', fontsize=14, y=1.05) \n",
    "\n",
    "#Calculate linear regression\n",
    "y_values = census_vs_total_accidents_df['total_accidents']\n",
    "x_values = census_vs_total_accidents_df['Both_sexes']\n",
    "(slope, intercept, rvalue, pvalue, stderr) = linregress(x_values, y_values)\n",
    "regress_values = x_values * slope + intercept\n",
    "line_eq = \"y = \" + str(round(slope,2)) + \"x + \" + str(round(intercept,2))\n",
    "\n",
    "#Plot and annotate linear regression\n",
    "plt_lin_reg(x_values, regress_values, line_eq, rvalue)\n",
    "\n",
    "#ax.set_size_inches( 36, 12.5)\n",
    "#sns.set(font_scale=4)\n",
    "#plt.subplots_adjust(top=0.8, bottom=0.3)\n",
    "\n",
    "#Save plot\n",
    "plt.savefig('Deaths vs. pop.pdf', bbox_inches='tight')\n",
    "#savefig('samplefigure', bbox_inches='tight')"
   ]
  },
  {
   "cell_type": "code",
   "execution_count": null,
   "metadata": {},
   "outputs": [],
   "source": []
  }
 ],
 "metadata": {
  "kernelspec": {
   "display_name": "Python 3",
   "language": "python",
   "name": "python3"
  },
  "language_info": {
   "codemirror_mode": {
    "name": "ipython",
    "version": 3
   },
   "file_extension": ".py",
   "mimetype": "text/x-python",
   "name": "python",
   "nbconvert_exporter": "python",
   "pygments_lexer": "ipython3",
   "version": "3.6.10"
  }
 },
 "nbformat": 4,
 "nbformat_minor": 4
}
