{
 "cells": [
  {
   "cell_type": "markdown",
   "metadata": {},
   "source": [
    "#  This is a shared notebook for Project I - Group 3"
   ]
  },
  {
   "cell_type": "markdown",
   "metadata": {},
   "source": [
    "## Data Cleaning"
   ]
  },
  {
   "cell_type": "code",
   "execution_count": null,
   "metadata": {},
   "outputs": [],
   "source": [
    "#Dependencies\n",
    "import os\n",
    "import pandas as pd\n",
    "import calendar\n",
    "import glob\n",
    "import seaborn as sns\n",
    "import numpy as np\n",
    "import matplotlib.pyplot as plt"
   ]
  },
  {
   "cell_type": "code",
   "execution_count": null,
   "metadata": {},
   "outputs": [],
   "source": [
    "#csvDir = os.path.join(\"Resources\")\n",
    "#col_list = [\"month_of_death\",\"day_of_week_of_death\",\"current_data_year\",\n",
    "#                              \"manner_of_death\",\"358_cause_recode\",\"sex\",\"detail_age\"]\n",
    "#masterDf = pd.DataFrame()\n",
    "#files = os.listdir(csvDir)\n",
    "#for file in files:\n",
    "#    if file.endswith(\".csv\"):\n",
    "#        curCsv = os.path.join(csvDir,file)\n",
    "#        with open(curCsv) as file:\n",
    "#            x = pd.read_csv(file, usecols=col_list)\n",
    "#            masterDf = pd.concat([masterDf,x],axis=0)"
   ]
  },
  {
   "cell_type": "code",
   "execution_count": null,
   "metadata": {},
   "outputs": [],
   "source": [
    "path = '/Users/bmacgreg/Documents/Bootcamp/Project_1/Project-1Team3/bundle_archive'\n",
    "col_list = [\"month_of_death\",\"day_of_week_of_death\",\"current_data_year\",\n",
    "                              \"manner_of_death\",\"358_cause_recode\",\"sex\",\"detail_age\"]\n",
    "masterDf = pd.DataFrame()\n",
    "files = glob.glob(path + \"/*.csv\")\n",
    "for file in files:\n",
    "    x = pd.read_csv(file, usecols=col_list)\n",
    "    masterDf = pd.concat([masterDf,x],axis=0)\n",
    "masterDf.sort_values(by=['current_data_year'])\n",
    "masterDf"
   ]
  },
  {
   "cell_type": "code",
   "execution_count": null,
   "metadata": {},
   "outputs": [],
   "source": [
    "#Filter to only deaths related to cars\n",
    "car_death_data = masterDf[(masterDf[\"358_cause_recode\"] >=385) & (masterDf[\"358_cause_recode\"] <=398)]\n",
    "car_death_data"
   ]
  },
  {
   "cell_type": "code",
   "execution_count": null,
   "metadata": {},
   "outputs": [],
   "source": [
    "#Clean up the dataframe so that it is readable\n",
    "month_dict = {\n",
    "      1:\"January\",\n",
    "      2:\"February\",\n",
    "      3:\"March\",\n",
    "      4:\"April\",\n",
    "      5:\"May\",\n",
    "      6:\"June\",\n",
    "      7:\"July\",\n",
    "      8:\"August\",\n",
    "      9:\"September\",\n",
    "      10:\"October\",\n",
    "      11:\"November\",\n",
    "      12:\"December\"}\n",
    "      \n",
    "day_of_week_dict = {\n",
    "      1:\"Sunday\",\n",
    "      2:\"Monday\",\n",
    "      3:\"Tuesday\",\n",
    "      4:\"Wednesday\",\n",
    "      5:\"Thursday\",\n",
    "      6:\"Friday\",\n",
    "      7:\"Saturday\",\n",
    "      9:\"Unknown\"}\n",
    "\n",
    "manner_of_death_dict = {\n",
    "      1:\"Accident\",\n",
    "      2:\"Suicide\",\n",
    "      3:\"Homicide\",\n",
    "      4:\"Pending investigation\",\n",
    "      5:\"Could not determine\",\n",
    "      6:\"Self-Inflicted\",\n",
    "      7:\"Natural\"}\n",
    "#       \"Blank\":\"Not specified\"}\n",
    "\n",
    "cause_recode_dict = {\n",
    "      385:\" 385- Motor vehicle accidents\",\n",
    "      386:\" 386- Pedestrian involved in collision with motor vehicle\",\n",
    "      387:\" 387- Pedalcyclist involved in collision with motor vehicle\",\n",
    "      388:\" 388- Motorcyclist involved in any accident except collision with railway train\",\n",
    "      389:\" 389- Motor vehicle accident involving collision with railway train\",\n",
    "      390:\" 390- Motorcyclist involved in collision with railway train\",\n",
    "      391:\" 391- Other motor vehicle accident involving collision with railway train\",\n",
    "      392:\" 392- Occupant of motor vehicle involved in collision with other (non- motorized) road vehicle, streetcar, animal or pedestrian\",\n",
    "      393:\" 393- Occupant of car, pickup truck or van involved in collision with other motor vehicle\",\n",
    "      394:\" 394- Occupant of heavy transport vehicle or bus involved in collision with other motor vehicle\",\n",
    "      395:\" 395- Occupant of motor vehicle involved in non-collision accident\",\n",
    "      396:\" 396- Occupant of special-use motor vehicle involved in any accident\",\n",
    "      397:\" 397- Other and unspecified motor vehicle accidents\",\n",
    "      398:\" 398- Streetcar accidents\"}\n",
    "    \n",
    "\n",
    "clean_df = car_death_data.replace({\"month_of_death\": month_dict, \n",
    "                        \"day_of_week_of_death\": day_of_week_dict,\n",
    "                        \"manner_of_death\": manner_of_death_dict,\n",
    "                        \"358_cause_recode\": cause_recode_dict})\n",
    "\n",
    "clean_df"
   ]
  },
  {
   "cell_type": "code",
   "execution_count": null,
   "metadata": {},
   "outputs": [],
   "source": [
    "#  check quality of data\n",
    "#  list all unique values in each columns\n",
    "\n",
    "colNames = list(clean_df.columns)\n",
    "for col in colNames:\n",
    "    print(col)\n",
    "    print(f\"{clean_df[col].unique()}\")\n",
    "    print(\"----------\")"
   ]
  },
  {
   "cell_type": "code",
   "execution_count": null,
   "metadata": {},
   "outputs": [],
   "source": [
    "#  Clean up\n",
    "#  Remove not logical data \n",
    "# ie: age of 999, day of week : Unknown, manner_of_death nan, need filter by Accident\n",
    "finalDf = clean_df[clean_df[\"detail_age\"] != 999]\n",
    "finalDf = finalDf[finalDf[\"manner_of_death\"] == \"Accident\"]\n",
    "finalDf =  finalDf[finalDf[\"day_of_week_of_death\"] != \"Unknown\"]\n",
    "finalDf"
   ]
  },
  {
   "cell_type": "code",
   "execution_count": null,
   "metadata": {},
   "outputs": [],
   "source": [
    "# Enforcing order of day of week and months\n",
    "finalDf['day_of_week_of_death'] = pd.Categorical(finalDf['day_of_week_of_death'], categories=\n",
    "    ['Monday','Tuesday','Wednesday','Thursday','Friday','Saturday', 'Sunday'],ordered=True)\n",
    "finalDf[\"month_of_death\"] =  pd.Categorical(finalDf['month_of_death'], categories=\n",
    "    [\"January\",\"February\",\"March\",\"April\",\"May\",\"June\",\"July\",\"August\",\"September\",\"October\",\"November\",\"December\"],ordered=True)"
   ]
  },
  {
   "cell_type": "markdown",
   "metadata": {},
   "source": [
    "## Analysis"
   ]
  },
  {
   "cell_type": "code",
   "execution_count": null,
   "metadata": {
    "scrolled": true
   },
   "outputs": [],
   "source": [
    "finalDf.dtypes"
   ]
  },
  {
   "cell_type": "code",
   "execution_count": null,
   "metadata": {},
   "outputs": [],
   "source": [
    "census_summary_df = pd.read_csv(\"nc-est2019-agesex_rearranged.csv\")\n",
    "census_summary_df = census_summary_df.rename(columns={'Age group': 'Age_group', 'Both sexes': 'Both_sexes', 'Year':'current_data_year'})\n",
    "census_summary_df"
   ]
  },
  {
   "cell_type": "code",
   "execution_count": null,
   "metadata": {},
   "outputs": [],
   "source": [
    "def label_age_group (row):\n",
    "    if row['detail_age'] < 5 :\n",
    "        return '1'\n",
    "    elif row['detail_age'] < 10 :\n",
    "        return '2'\n",
    "    elif row['detail_age'] < 15 :\n",
    "        return '3'\n",
    "    elif row['detail_age'] < 20 :\n",
    "        return '4'\n",
    "    elif row['detail_age'] < 25 :\n",
    "        return '5'\n",
    "    elif row['detail_age'] < 30 :\n",
    "        return '6'\n",
    "    elif row['detail_age'] < 35 :\n",
    "        return '7'\n",
    "    elif row['detail_age'] < 40 :\n",
    "        return '8'\n",
    "    elif row['detail_age'] < 45 :\n",
    "        return '9'\n",
    "    elif row['detail_age'] < 50 :\n",
    "        return '10'\n",
    "    elif row['detail_age'] < 55 :\n",
    "        return '11'\n",
    "    elif row['detail_age'] < 60 :\n",
    "        return '12'\n",
    "    elif row['detail_age'] < 65 :\n",
    "        return '13'\n",
    "    elif row['detail_age'] < 70 :\n",
    "        return '14'\n",
    "    elif row['detail_age'] < 75 :\n",
    "        return '15'\n",
    "    elif row['detail_age'] < 80 :\n",
    "        return '16'\n",
    "    elif row['detail_age'] < 85 :\n",
    "        return '17'    \n",
    "    else:\n",
    "        return '18'\n",
    "\n",
    "finalDf['Age_group'] = finalDf.apply (lambda row: label_age_group(row), axis=1)\n",
    "finalDf.sort_values(by=['current_data_year'])\n",
    "finalDf\n"
   ]
  },
  {
   "cell_type": "code",
   "execution_count": null,
   "metadata": {},
   "outputs": [],
   "source": [
    "census_summary_df.dtypes"
   ]
  },
  {
   "cell_type": "code",
   "execution_count": null,
   "metadata": {},
   "outputs": [],
   "source": [
    "finalDf[\"Age_group\"] = pd.to_numeric(finalDf[\"Age_group\"])\n",
    "finalDf.dtypes"
   ]
  },
  {
   "cell_type": "code",
   "execution_count": null,
   "metadata": {},
   "outputs": [],
   "source": [
    "finalDf_with_census = pd.merge(finalDf, census_summary_df, how='left', on=['Age_group', 'current_data_year'])\n",
    "finalDf_with_census.sort_values(by=['current_data_year'])\n",
    "finalDf_with_census"
   ]
  },
  {
   "cell_type": "code",
   "execution_count": null,
   "metadata": {},
   "outputs": [],
   "source": [
    "hist_month = finalDf['month_of_death'].value_counts()[[\"January\", \"February\", \"March\", \"April\", \"May\", \"June\", \"July\", \"August\", \"September\", \"October\", \"November\", \"December\"]].plot(kind='bar')\n",
    "#hist_month = finalDf['month_of_death'].value_counts().plot(kind='bar')"
   ]
  },
  {
   "cell_type": "code",
   "execution_count": null,
   "metadata": {},
   "outputs": [],
   "source": [
    "sns.set()\n",
    "hist_month = sns.countplot(finalDf['month_of_death'], color='gray')\n",
    "hist_month.set_xticklabels(hist_month.get_xticklabels(), rotation=45, horizontalalignment='right')"
   ]
  },
  {
   "cell_type": "code",
   "execution_count": null,
   "metadata": {},
   "outputs": [],
   "source": [
    "ax = sns.countplot(x=\"current_data_year\", hue=\"month_of_death\", data=finalDf)\n",
    "ax.legend(bbox_to_anchor=(1.05, 1), loc=2,borderaxespad=0.)\n",
    "ax.set_title(\"Total Deaths by Month and Year\")\n",
    "#https://stackoverflow.com/questions/27019079/move-seaborn-plot-legend-to-a-different-position"
   ]
  },
  {
   "cell_type": "code",
   "execution_count": null,
   "metadata": {},
   "outputs": [],
   "source": [
    "ax = sns.countplot(hue=\"current_data_year\", x=\"358_cause_recode\", data=finalDf)\n",
    "ax.legend(bbox_to_anchor=(1.05, 1), loc=2,borderaxespad=0.)\n",
    "ax.set_title(\"Deaths by Year and Type\")\n",
    "ax.set_xticklabels(ax.get_xticklabels(), rotation=45, horizontalalignment='right')\n",
    "#https://stackoverflow.com/questions/27019079/move-seaborn-plot-legend-to-a-different-position"
   ]
  },
  {
   "cell_type": "code",
   "execution_count": null,
   "metadata": {},
   "outputs": [],
   "source": [
    "ax = sns.countplot(hue=\"current_data_year\", x=\"day_of_week_of_death\", data=finalDf)\n",
    "ax.legend(bbox_to_anchor=(1.05, 1), loc=2,borderaxespad=0.)\n",
    "ax.set_title(\"Total Deaths by Year and Day of Week\")\n",
    "ax.set_xticklabels(ax.get_xticklabels(), rotation=45, horizontalalignment='right')\n",
    "#https://stackoverflow.com/questions/27019079/move-seaborn-plot-legend-to-a-different-position"
   ]
  },
  {
   "cell_type": "code",
   "execution_count": null,
   "metadata": {},
   "outputs": [],
   "source": [
    "#order=['Sunday', 'Monday', 'Tuesday' ,'Wednesday','Thursday' ,'Friday', 'Saturday']\n",
    "cut_bins = [0,15,20, 25, 30, 35, 40, 45, 50, 55, 60, 65, 70, 75, 80, 85, 90, 95, 100, 105, 110]\n",
    "finalDf['cut_age'] = pd.cut(finalDf['detail_age'], bins=cut_bins) #labels=cut_labels_4)\n",
    "ax = sns.countplot(hue=\"day_of_week_of_death\", x=\"cut_age\", data=finalDf)\n",
    "ax.legend(bbox_to_anchor=(1.05, 1), loc=2,borderaxespad=0.)\n",
    "ax.set_title(\"Total Deaths by Age Group and Day of Week\")\n",
    "ax.set_xticklabels(ax.get_xticklabels(), rotation=45, horizontalalignment='right')"
   ]
  },
  {
   "cell_type": "code",
   "execution_count": null,
   "metadata": {},
   "outputs": [],
   "source": [
    "#order=['Sunday', 'Monday', 'Tuesday' ,'Wednesday','Thursday' ,'Friday', 'Saturday']\n",
    "#cut_bins = [0,15,20, 25, 30, 35, 40, 45, 50, 55, 60, 65, 70, 75, 80, 85, 90, 95, 100, 105, 110]\n",
    "#finalDf['cut_age'] = pd.cut(finalDf['detail_age'], bins=cut_bins) #labels=cut_labels_4)\n",
    "ax = sns.countplot(hue=\"day_of_week_of_death\", x=\"age_group\", data=finalDf)\n",
    "ax.legend(bbox_to_anchor=(1.05, 1), loc=2,borderaxespad=0.)\n",
    "ax.set_title(\"Total Deaths by Age Group and Day of Week\")\n",
    "ax.set_xticklabels(ax.get_xticklabels(), rotation=45, horizontalalignment='right')"
   ]
  },
  {
   "cell_type": "code",
   "execution_count": null,
   "metadata": {},
   "outputs": [],
   "source": [
    "ax = sns.barplot(x = 'Age', y = 'Both_sexes', hue='Year', data = census_summary_df)\n",
    "ax.legend(bbox_to_anchor=(1.05, 1), loc=2,borderaxespad=0.)\n",
    "ax.set_title(\"US Population by Age Group\")\n",
    "ax.set_xticklabels(ax.get_xticklabels(), rotation=45, horizontalalignment='right')"
   ]
  },
  {
   "cell_type": "code",
   "execution_count": null,
   "metadata": {},
   "outputs": [],
   "source": []
  }
 ],
 "metadata": {
  "kernelspec": {
   "display_name": "Python 3",
   "language": "python",
   "name": "python3"
  },
  "language_info": {
   "codemirror_mode": {
    "name": "ipython",
    "version": 3
   },
   "file_extension": ".py",
   "mimetype": "text/x-python",
   "name": "python",
   "nbconvert_exporter": "python",
   "pygments_lexer": "ipython3",
   "version": "3.6.10"
  }
 },
 "nbformat": 4,
 "nbformat_minor": 4
}
